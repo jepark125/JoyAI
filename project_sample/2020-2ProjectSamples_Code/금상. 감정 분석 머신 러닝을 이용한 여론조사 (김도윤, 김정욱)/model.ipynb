{
 "cells": [
  {
   "cell_type": "code",
   "execution_count": 1,
   "metadata": {},
   "outputs": [
    {
     "name": "stdout",
     "output_type": "stream",
     "text": [
      "Defaulting to user installation because normal site-packages is not writeable\n",
      "Collecting gensim\n",
      "  Downloading gensim-3.8.3-cp37-cp37m-macosx_10_9_x86_64.whl (24.2 MB)\n",
      "\u001b[K     |████████████████████████████████| 24.2 MB 9.3 MB/s eta 0:00:011\n",
      "\u001b[?25hCollecting smart-open>=1.8.1\n",
      "  Downloading smart_open-4.0.1.tar.gz (117 kB)\n",
      "\u001b[K     |████████████████████████████████| 117 kB 11.3 MB/s eta 0:00:01\n",
      "\u001b[?25hRequirement already satisfied, skipping upgrade: scipy>=0.18.1 in /Users/dodo4.0/opt/anaconda3/lib/python3.7/site-packages (from gensim) (1.5.0)\n",
      "Requirement already satisfied, skipping upgrade: six>=1.5.0 in /Users/dodo4.0/opt/anaconda3/lib/python3.7/site-packages (from gensim) (1.15.0)\n",
      "Requirement already satisfied, skipping upgrade: numpy>=1.11.3 in /Users/dodo4.0/opt/anaconda3/lib/python3.7/site-packages (from gensim) (1.18.5)\n",
      "Building wheels for collected packages: smart-open\n",
      "  Building wheel for smart-open (setup.py) ... \u001b[?25ldone\n",
      "\u001b[?25h  Created wheel for smart-open: filename=smart_open-4.0.1-py3-none-any.whl size=108249 sha256=ff11e8c5bcc4cbc665fb1a44353372463f02d6be30cab03b25578b042f41d3af\n",
      "  Stored in directory: /Users/dodo4.0/Library/Caches/pip/wheels/34/3d/14/f19c01a19c9201cdb6a76b049904d5226912569be919ad1eae\n",
      "Successfully built smart-open\n",
      "Installing collected packages: smart-open, gensim\n",
      "Successfully installed gensim-3.8.3 smart-open-4.0.1\n",
      "Defaulting to user installation because normal site-packages is not writeable\n",
      "Collecting keras\n",
      "  Using cached Keras-2.4.3-py2.py3-none-any.whl (36 kB)\n",
      "Requirement already satisfied, skipping upgrade: numpy>=1.9.1 in /Users/dodo4.0/opt/anaconda3/lib/python3.7/site-packages (from keras) (1.18.5)\n",
      "Requirement already satisfied, skipping upgrade: pyyaml in /Users/dodo4.0/opt/anaconda3/lib/python3.7/site-packages (from keras) (5.3.1)\n",
      "Requirement already satisfied, skipping upgrade: scipy>=0.14 in /Users/dodo4.0/opt/anaconda3/lib/python3.7/site-packages (from keras) (1.5.0)\n",
      "Requirement already satisfied, skipping upgrade: h5py in /Users/dodo4.0/opt/anaconda3/lib/python3.7/site-packages (from keras) (2.10.0)\n",
      "Requirement already satisfied, skipping upgrade: six in /Users/dodo4.0/opt/anaconda3/lib/python3.7/site-packages (from h5py->keras) (1.15.0)\n",
      "Installing collected packages: keras\n",
      "Successfully installed keras-2.4.3\n",
      "Defaulting to user installation because normal site-packages is not writeable\n",
      "Collecting pandas\n",
      "  Downloading pandas-1.1.4-cp37-cp37m-macosx_10_9_x86_64.whl (9.9 MB)\n",
      "\u001b[K     |████████████████████████████████| 9.9 MB 8.5 MB/s eta 0:00:01     |██████████████████▊             | 5.8 MB 1.4 MB/s eta 0:00:03\n",
      "\u001b[?25hRequirement already satisfied, skipping upgrade: pytz>=2017.2 in /Users/dodo4.0/opt/anaconda3/lib/python3.7/site-packages (from pandas) (2020.1)\n",
      "Requirement already satisfied, skipping upgrade: numpy>=1.15.4 in /Users/dodo4.0/opt/anaconda3/lib/python3.7/site-packages (from pandas) (1.18.5)\n",
      "Requirement already satisfied, skipping upgrade: python-dateutil>=2.7.3 in /Users/dodo4.0/opt/anaconda3/lib/python3.7/site-packages (from pandas) (2.8.1)\n",
      "Requirement already satisfied, skipping upgrade: six>=1.5 in /Users/dodo4.0/opt/anaconda3/lib/python3.7/site-packages (from python-dateutil>=2.7.3->pandas) (1.15.0)\n",
      "Installing collected packages: pandas\n",
      "Successfully installed pandas-1.1.4\n"
     ]
    }
   ],
   "source": [
    "!pip install gensim --upgrade\n",
    "!pip install keras --upgrade\n",
    "!pip install pandas --upgrade"
   ]
  },
  {
   "cell_type": "code",
   "execution_count": 3,
   "metadata": {},
   "outputs": [],
   "source": [
    "# DataFrame\n",
    "import pandas as pd\n",
    "\n",
    "# Matplot\n",
    "import matplotlib.pyplot as plt\n",
    "%matplotlib inline\n",
    "\n",
    "# Scikit-learn\n",
    "from sklearn.model_selection import train_test_split\n",
    "from sklearn.preprocessing import LabelEncoder\n",
    "from sklearn.metrics import confusion_matrix, classification_report, accuracy_score\n",
    "from sklearn.manifold import TSNE\n",
    "from sklearn.feature_extraction.text import TfidfVectorizer\n",
    "\n",
    "# Keras\n",
    "from keras.preprocessing.text import Tokenizer\n",
    "from keras.preprocessing.sequence import pad_sequences\n",
    "from keras.models import Sequential\n",
    "from keras.layers import Activation, Dense, Dropout, Embedding, Flatten, Conv1D, MaxPooling1D, LSTM\n",
    "from keras import utils\n",
    "from keras.callbacks import ReduceLROnPlateau, EarlyStopping\n",
    "\n",
    "# nltk\n",
    "import nltk\n",
    "from nltk.corpus import stopwords\n",
    "from  nltk.stem import SnowballStemmer\n",
    "\n",
    "# Word2vec\n",
    "import gensim\n",
    "\n",
    "# Utility\n",
    "import re\n",
    "import numpy as np\n",
    "import os\n",
    "from collections import Counter\n",
    "import logging\n",
    "import time\n",
    "import pickle\n",
    "import itertools\n",
    "\n",
    "# Set log\n",
    "logging.basicConfig(format='%(asctime)s : %(levelname)s : %(message)s', level=logging.INFO)"
   ]
  },
  {
   "cell_type": "code",
   "execution_count": 4,
   "metadata": {},
   "outputs": [
    {
     "name": "stderr",
     "output_type": "stream",
     "text": [
      "[nltk_data] Downloading package stopwords to\n",
      "[nltk_data]     /Users/dodo4.0/nltk_data...\n",
      "[nltk_data]   Unzipping corpora/stopwords.zip.\n"
     ]
    },
    {
     "data": {
      "text/plain": [
       "True"
      ]
     },
     "execution_count": 4,
     "metadata": {},
     "output_type": "execute_result"
    }
   ],
   "source": [
    "nltk.download('stopwords')"
   ]
  },
  {
   "cell_type": "code",
   "execution_count": 5,
   "metadata": {},
   "outputs": [],
   "source": [
    "# DATASET\n",
    "DATASET_COLUMNS = [\"target\", \"ids\", \"date\", \"flag\", \"user\", \"text\"]\n",
    "DATASET_ENCODING = \"ISO-8859-1\"\n",
    "TRAIN_SIZE = 0.8\n",
    "\n",
    "# TEXT CLENAING\n",
    "TEXT_CLEANING_RE = \"@\\S+|https?:\\S+|http?:\\S|[^A-Za-z0-9]+\"\n",
    "\n",
    "# WORD2VEC \n",
    "W2V_SIZE = 300\n",
    "W2V_WINDOW = 7\n",
    "W2V_EPOCH = 32\n",
    "W2V_MIN_COUNT = 10\n",
    "\n",
    "# KERAS\n",
    "SEQUENCE_LENGTH = 300\n",
    "EPOCHS = 8\n",
    "BATCH_SIZE = 1024\n",
    "\n",
    "# SENTIMENT\n",
    "POSITIVE = \"POSITIVE\"\n",
    "NEGATIVE = \"NEGATIVE\"\n",
    "NEUTRAL = \"NEUTRAL\"\n",
    "SENTIMENT_THRESHOLDS = (0.4, 0.7)\n",
    "\n",
    "# EXPORT\n",
    "KERAS_MODEL = \"model.h5\"\n",
    "WORD2VEC_MODEL = \"model.w2v\"\n",
    "TOKENIZER_MODEL = \"tokenizer.pkl\"\n",
    "ENCODER_MODEL = \"encoder.pkl\""
   ]
  },
  {
   "cell_type": "code",
   "execution_count": 11,
   "metadata": {},
   "outputs": [
    {
     "name": "stdout",
     "output_type": "stream",
     "text": [
      "training.1600000.processed.noemoticon.csv\n",
      "Open file: ./input/training.1600000.processed.noemoticon.csv\n"
     ]
    }
   ],
   "source": [
    "dataset_filename = os.listdir(\"./input\")[0]\n",
    "print(dataset_filename)\n",
    "dataset_path = os.path.join(\".\",\"input\",dataset_filename)\n",
    "print(\"Open file:\", dataset_path)\n",
    "df = pd.read_csv(dataset_path, encoding =DATASET_ENCODING , names=DATASET_COLUMNS)"
   ]
  },
  {
   "cell_type": "code",
   "execution_count": 12,
   "metadata": {},
   "outputs": [
    {
     "name": "stdout",
     "output_type": "stream",
     "text": [
      "Dataset size: 1600000\n"
     ]
    }
   ],
   "source": [
    "print(\"Dataset size:\", len(df))"
   ]
  },
  {
   "cell_type": "code",
   "execution_count": 13,
   "metadata": {},
   "outputs": [
    {
     "data": {
      "text/html": [
       "<div>\n",
       "<style scoped>\n",
       "    .dataframe tbody tr th:only-of-type {\n",
       "        vertical-align: middle;\n",
       "    }\n",
       "\n",
       "    .dataframe tbody tr th {\n",
       "        vertical-align: top;\n",
       "    }\n",
       "\n",
       "    .dataframe thead th {\n",
       "        text-align: right;\n",
       "    }\n",
       "</style>\n",
       "<table border=\"1\" class=\"dataframe\">\n",
       "  <thead>\n",
       "    <tr style=\"text-align: right;\">\n",
       "      <th></th>\n",
       "      <th>target</th>\n",
       "      <th>ids</th>\n",
       "      <th>date</th>\n",
       "      <th>flag</th>\n",
       "      <th>user</th>\n",
       "      <th>text</th>\n",
       "    </tr>\n",
       "  </thead>\n",
       "  <tbody>\n",
       "    <tr>\n",
       "      <th>0</th>\n",
       "      <td>0</td>\n",
       "      <td>1467810369</td>\n",
       "      <td>Mon Apr 06 22:19:45 PDT 2009</td>\n",
       "      <td>NO_QUERY</td>\n",
       "      <td>_TheSpecialOne_</td>\n",
       "      <td>@switchfoot http://twitpic.com/2y1zl - Awww, t...</td>\n",
       "    </tr>\n",
       "    <tr>\n",
       "      <th>1</th>\n",
       "      <td>0</td>\n",
       "      <td>1467810672</td>\n",
       "      <td>Mon Apr 06 22:19:49 PDT 2009</td>\n",
       "      <td>NO_QUERY</td>\n",
       "      <td>scotthamilton</td>\n",
       "      <td>is upset that he can't update his Facebook by ...</td>\n",
       "    </tr>\n",
       "    <tr>\n",
       "      <th>2</th>\n",
       "      <td>0</td>\n",
       "      <td>1467810917</td>\n",
       "      <td>Mon Apr 06 22:19:53 PDT 2009</td>\n",
       "      <td>NO_QUERY</td>\n",
       "      <td>mattycus</td>\n",
       "      <td>@Kenichan I dived many times for the ball. Man...</td>\n",
       "    </tr>\n",
       "    <tr>\n",
       "      <th>3</th>\n",
       "      <td>0</td>\n",
       "      <td>1467811184</td>\n",
       "      <td>Mon Apr 06 22:19:57 PDT 2009</td>\n",
       "      <td>NO_QUERY</td>\n",
       "      <td>ElleCTF</td>\n",
       "      <td>my whole body feels itchy and like its on fire</td>\n",
       "    </tr>\n",
       "    <tr>\n",
       "      <th>4</th>\n",
       "      <td>0</td>\n",
       "      <td>1467811193</td>\n",
       "      <td>Mon Apr 06 22:19:57 PDT 2009</td>\n",
       "      <td>NO_QUERY</td>\n",
       "      <td>Karoli</td>\n",
       "      <td>@nationwideclass no, it's not behaving at all....</td>\n",
       "    </tr>\n",
       "  </tbody>\n",
       "</table>\n",
       "</div>"
      ],
      "text/plain": [
       "   target         ids                          date      flag  \\\n",
       "0       0  1467810369  Mon Apr 06 22:19:45 PDT 2009  NO_QUERY   \n",
       "1       0  1467810672  Mon Apr 06 22:19:49 PDT 2009  NO_QUERY   \n",
       "2       0  1467810917  Mon Apr 06 22:19:53 PDT 2009  NO_QUERY   \n",
       "3       0  1467811184  Mon Apr 06 22:19:57 PDT 2009  NO_QUERY   \n",
       "4       0  1467811193  Mon Apr 06 22:19:57 PDT 2009  NO_QUERY   \n",
       "\n",
       "              user                                               text  \n",
       "0  _TheSpecialOne_  @switchfoot http://twitpic.com/2y1zl - Awww, t...  \n",
       "1    scotthamilton  is upset that he can't update his Facebook by ...  \n",
       "2         mattycus  @Kenichan I dived many times for the ball. Man...  \n",
       "3          ElleCTF    my whole body feels itchy and like its on fire   \n",
       "4           Karoli  @nationwideclass no, it's not behaving at all....  "
      ]
     },
     "execution_count": 13,
     "metadata": {},
     "output_type": "execute_result"
    }
   ],
   "source": [
    "df.head(5)"
   ]
  },
  {
   "cell_type": "code",
   "execution_count": 14,
   "metadata": {},
   "outputs": [],
   "source": [
    "decode_map = {0: \"NEGATIVE\", 2: \"NEUTRAL\", 4: \"POSITIVE\"}\n",
    "def decode_sentiment(label):\n",
    "    return decode_map[int(label)]"
   ]
  },
  {
   "cell_type": "code",
   "execution_count": 15,
   "metadata": {},
   "outputs": [
    {
     "name": "stdout",
     "output_type": "stream",
     "text": [
      "CPU times: user 436 ms, sys: 9.11 ms, total: 446 ms\n",
      "Wall time: 458 ms\n"
     ]
    }
   ],
   "source": [
    "%%time\n",
    "df.target = df.target.apply(lambda x: decode_sentiment(x))"
   ]
  },
  {
   "cell_type": "code",
   "execution_count": 16,
   "metadata": {},
   "outputs": [
    {
     "data": {
      "text/plain": [
       "Text(0.5, 1.0, 'Dataset labels distribuition')"
      ]
     },
     "execution_count": 16,
     "metadata": {},
     "output_type": "execute_result"
    },
    {
     "data": {
      "image/png": "[encoded data removed]",
      "text/plain": [
       "<Figure size 1152x576 with 1 Axes>"
      ]
     },
     "metadata": {
      "needs_background": "light"
     },
     "output_type": "display_data"
    }
   ],
   "source": [
    "target_cnt = Counter(df.target)\n",
    "\n",
    "plt.figure(figsize=(16,8))\n",
    "plt.bar(target_cnt.keys(), target_cnt.values())\n",
    "plt.title(\"Dataset labels distribuition\")"
   ]
  },
  {
   "cell_type": "code",
   "execution_count": 17,
   "metadata": {},
   "outputs": [],
   "source": [
    "stop_words = stopwords.words(\"english\")\n",
    "stemmer = SnowballStemmer(\"english\")"
   ]
  },
  {
   "cell_type": "code",
   "execution_count": 18,
   "metadata": {},
   "outputs": [],
   "source": [
    "def preprocess(text, stem=False):\n",
    "    # Remove link,user and special characters\n",
    "    text = re.sub(TEXT_CLEANING_RE, ' ', str(text).lower()).strip()\n",
    "    tokens = []\n",
    "    for token in text.split():\n",
    "        if token not in stop_words:\n",
    "            if stem:\n",
    "                tokens.append(stemmer.stem(token))\n",
    "            else:\n",
    "                tokens.append(token)\n",
    "    return \" \".join(tokens)"
   ]
  },
  {
   "cell_type": "code",
   "execution_count": 19,
   "metadata": {},
   "outputs": [
    {
     "name": "stdout",
     "output_type": "stream",
     "text": [
      "CPU times: user 45.1 s, sys: 185 ms, total: 45.3 s\n",
      "Wall time: 45.7 s\n"
     ]
    }
   ],
   "source": [
    "%%time\n",
    "df.text = df.text.apply(lambda x: preprocess(x))"
   ]
  },
  {
   "cell_type": "code",
   "execution_count": 20,
   "metadata": {},
   "outputs": [
    {
     "name": "stdout",
     "output_type": "stream",
     "text": [
      "TRAIN size: 1280000\n",
      "TEST size: 320000\n"
     ]
    }
   ],
   "source": [
    "df_train, df_test = train_test_split(df, test_size=1-TRAIN_SIZE, random_state=42)\n",
    "print(\"TRAIN size:\", len(df_train))\n",
    "print(\"TEST size:\", len(df_test))"
   ]
  },
  {
   "cell_type": "code",
   "execution_count": 21,
   "metadata": {},
   "outputs": [
    {
     "name": "stdout",
     "output_type": "stream",
     "text": [
      "CPU times: user 2.48 s, sys: 311 ms, total: 2.79 s\n",
      "Wall time: 2.96 s\n"
     ]
    }
   ],
   "source": [
    "%%time\n",
    "documents = [_text.split() for _text in df_train.text] "
   ]
  },
  {
   "cell_type": "code",
   "execution_count": 22,
   "metadata": {},
   "outputs": [],
   "source": [
    "w2v_model = gensim.models.word2vec.Word2Vec(size=W2V_SIZE, \n",
    "                                            window=W2V_WINDOW, \n",
    "                                            min_count=W2V_MIN_COUNT, \n",
    "                                            workers=8)"
   ]
  },
  {
   "cell_type": "code",
   "execution_count": 23,
   "metadata": {},
   "outputs": [
    {
     "name": "stderr",
     "output_type": "stream",
     "text": [
      "2020-12-04 15:02:13,557 : INFO : collecting all words and their counts\n",
      "2020-12-04 15:02:13,559 : INFO : PROGRESS: at sentence #0, processed 0 words, keeping 0 word types\n",
      "2020-12-04 15:02:13,579 : INFO : PROGRESS: at sentence #10000, processed 72565 words, keeping 14005 word types\n",
      "2020-12-04 15:02:13,597 : INFO : PROGRESS: at sentence #20000, processed 144393 words, keeping 21587 word types\n",
      "2020-12-04 15:02:13,635 : INFO : PROGRESS: at sentence #30000, processed 215826 words, keeping 27541 word types\n",
      "2020-12-04 15:02:13,667 : INFO : PROGRESS: at sentence #40000, processed 288271 words, keeping 32764 word types\n",
      "2020-12-04 15:02:13,703 : INFO : PROGRESS: at sentence #50000, processed 359772 words, keeping 37587 word types\n",
      "2020-12-04 15:02:13,729 : INFO : PROGRESS: at sentence #60000, processed 431431 words, keeping 42198 word types\n",
      "2020-12-04 15:02:13,759 : INFO : PROGRESS: at sentence #70000, processed 503103 words, keeping 46458 word types\n",
      "2020-12-04 15:02:13,789 : INFO : PROGRESS: at sentence #80000, processed 575709 words, keeping 50476 word types\n",
      "2020-12-04 15:02:13,828 : INFO : PROGRESS: at sentence #90000, processed 647100 words, keeping 54140 word types\n",
      "2020-12-04 15:02:13,847 : INFO : PROGRESS: at sentence #100000, processed 718681 words, keeping 57777 word types\n",
      "2020-12-04 15:02:13,900 : INFO : PROGRESS: at sentence #110000, processed 790696 words, keeping 61207 word types\n",
      "2020-12-04 15:02:13,921 : INFO : PROGRESS: at sentence #120000, processed 863134 words, keeping 64583 word types\n",
      "2020-12-04 15:02:13,945 : INFO : PROGRESS: at sentence #130000, processed 935111 words, keeping 67865 word types\n",
      "2020-12-04 15:02:13,981 : INFO : PROGRESS: at sentence #140000, processed 1006668 words, keeping 70966 word types\n",
      "2020-12-04 15:02:14,020 : INFO : PROGRESS: at sentence #150000, processed 1078512 words, keeping 74119 word types\n",
      "2020-12-04 15:02:14,041 : INFO : PROGRESS: at sentence #160000, processed 1149914 words, keeping 77187 word types\n",
      "2020-12-04 15:02:14,064 : INFO : PROGRESS: at sentence #170000, processed 1222145 words, keeping 80267 word types\n",
      "2020-12-04 15:02:14,097 : INFO : PROGRESS: at sentence #180000, processed 1294708 words, keeping 83393 word types\n",
      "2020-12-04 15:02:14,122 : INFO : PROGRESS: at sentence #190000, processed 1367608 words, keeping 86329 word types\n",
      "2020-12-04 15:02:14,166 : INFO : PROGRESS: at sentence #200000, processed 1439469 words, keeping 89103 word types\n",
      "2020-12-04 15:02:14,196 : INFO : PROGRESS: at sentence #210000, processed 1512099 words, keeping 91840 word types\n",
      "2020-12-04 15:02:14,225 : INFO : PROGRESS: at sentence #220000, processed 1584149 words, keeping 94636 word types\n",
      "2020-12-04 15:02:14,267 : INFO : PROGRESS: at sentence #230000, processed 1656354 words, keeping 97353 word types\n",
      "2020-12-04 15:02:14,311 : INFO : PROGRESS: at sentence #240000, processed 1728573 words, keeping 99975 word types\n",
      "2020-12-04 15:02:14,340 : INFO : PROGRESS: at sentence #250000, processed 1801102 words, keeping 102594 word types\n",
      "2020-12-04 15:02:14,364 : INFO : PROGRESS: at sentence #260000, processed 1873103 words, keeping 105162 word types\n",
      "2020-12-04 15:02:14,414 : INFO : PROGRESS: at sentence #270000, processed 1945245 words, keeping 107626 word types\n",
      "2020-12-04 15:02:14,436 : INFO : PROGRESS: at sentence #280000, processed 2017163 words, keeping 110141 word types\n",
      "2020-12-04 15:02:14,466 : INFO : PROGRESS: at sentence #290000, processed 2089574 words, keeping 112539 word types\n",
      "2020-12-04 15:02:14,511 : INFO : PROGRESS: at sentence #300000, processed 2160996 words, keeping 114893 word types\n",
      "2020-12-04 15:02:14,531 : INFO : PROGRESS: at sentence #310000, processed 2232913 words, keeping 117298 word types\n",
      "2020-12-04 15:02:14,564 : INFO : PROGRESS: at sentence #320000, processed 2305039 words, keeping 119693 word types\n",
      "2020-12-04 15:02:14,590 : INFO : PROGRESS: at sentence #330000, processed 2377119 words, keeping 122131 word types\n",
      "2020-12-04 15:02:14,625 : INFO : PROGRESS: at sentence #340000, processed 2449370 words, keeping 124416 word types\n",
      "2020-12-04 15:02:14,651 : INFO : PROGRESS: at sentence #350000, processed 2521564 words, keeping 126669 word types\n",
      "2020-12-04 15:02:14,718 : INFO : PROGRESS: at sentence #360000, processed 2593681 words, keeping 128912 word types\n",
      "2020-12-04 15:02:14,758 : INFO : PROGRESS: at sentence #370000, processed 2665692 words, keeping 131135 word types\n",
      "2020-12-04 15:02:14,794 : INFO : PROGRESS: at sentence #380000, processed 2737859 words, keeping 133403 word types\n",
      "2020-12-04 15:02:14,830 : INFO : PROGRESS: at sentence #390000, processed 2809848 words, keeping 135551 word types\n",
      "2020-12-04 15:02:14,863 : INFO : PROGRESS: at sentence #400000, processed 2882438 words, keeping 137742 word types\n",
      "2020-12-04 15:02:14,904 : INFO : PROGRESS: at sentence #410000, processed 2954075 words, keeping 139909 word types\n",
      "2020-12-04 15:02:14,949 : INFO : PROGRESS: at sentence #420000, processed 3026247 words, keeping 142144 word types\n",
      "2020-12-04 15:02:14,979 : INFO : PROGRESS: at sentence #430000, processed 3098659 words, keeping 144364 word types\n",
      "2020-12-04 15:02:15,029 : INFO : PROGRESS: at sentence #440000, processed 3170663 words, keeping 146439 word types\n",
      "2020-12-04 15:02:15,069 : INFO : PROGRESS: at sentence #450000, processed 3243344 words, keeping 148526 word types\n",
      "2020-12-04 15:02:15,095 : INFO : PROGRESS: at sentence #460000, processed 3315466 words, keeping 150610 word types\n",
      "2020-12-04 15:02:15,129 : INFO : PROGRESS: at sentence #470000, processed 3388295 words, keeping 152737 word types\n",
      "2020-12-04 15:02:15,159 : INFO : PROGRESS: at sentence #480000, processed 3460120 words, keeping 154757 word types\n",
      "2020-12-04 15:02:15,253 : INFO : PROGRESS: at sentence #490000, processed 3531883 words, keeping 156825 word types\n",
      "2020-12-04 15:02:15,276 : INFO : PROGRESS: at sentence #500000, processed 3604217 words, keeping 158859 word types\n",
      "2020-12-04 15:02:15,334 : INFO : PROGRESS: at sentence #510000, processed 3676427 words, keeping 160852 word types\n",
      "2020-12-04 15:02:15,372 : INFO : PROGRESS: at sentence #520000, processed 3749045 words, keeping 162863 word types\n",
      "2020-12-04 15:02:15,408 : INFO : PROGRESS: at sentence #530000, processed 3821622 words, keeping 164929 word types\n",
      "2020-12-04 15:02:15,443 : INFO : PROGRESS: at sentence #540000, processed 3893627 words, keeping 166840 word types\n",
      "2020-12-04 15:02:15,473 : INFO : PROGRESS: at sentence #550000, processed 3965477 words, keeping 168799 word types\n",
      "2020-12-04 15:02:15,509 : INFO : PROGRESS: at sentence #560000, processed 4038050 words, keeping 170802 word types\n",
      "2020-12-04 15:02:15,539 : INFO : PROGRESS: at sentence #570000, processed 4110296 words, keeping 172760 word types\n",
      "2020-12-04 15:02:15,573 : INFO : PROGRESS: at sentence #580000, processed 4182385 words, keeping 174635 word types\n",
      "2020-12-04 15:02:15,604 : INFO : PROGRESS: at sentence #590000, processed 4254632 words, keeping 176470 word types\n",
      "2020-12-04 15:02:15,634 : INFO : PROGRESS: at sentence #600000, processed 4326859 words, keeping 178350 word types\n",
      "2020-12-04 15:02:15,665 : INFO : PROGRESS: at sentence #610000, processed 4399183 words, keeping 180290 word types\n",
      "2020-12-04 15:02:15,694 : INFO : PROGRESS: at sentence #620000, processed 4471343 words, keeping 182129 word types\n",
      "2020-12-04 15:02:15,726 : INFO : PROGRESS: at sentence #630000, processed 4543286 words, keeping 184005 word types\n",
      "2020-12-04 15:02:15,750 : INFO : PROGRESS: at sentence #640000, processed 4615780 words, keeping 185835 word types\n",
      "2020-12-04 15:02:15,776 : INFO : PROGRESS: at sentence #650000, processed 4688481 words, keeping 187705 word types\n",
      "2020-12-04 15:02:15,801 : INFO : PROGRESS: at sentence #660000, processed 4760481 words, keeping 189439 word types\n",
      "2020-12-04 15:02:15,834 : INFO : PROGRESS: at sentence #670000, processed 4833024 words, keeping 191232 word types\n",
      "2020-12-04 15:02:15,858 : INFO : PROGRESS: at sentence #680000, processed 4904516 words, keeping 193177 word types\n",
      "2020-12-04 15:02:15,892 : INFO : PROGRESS: at sentence #690000, processed 4976968 words, keeping 194960 word types\n",
      "2020-12-04 15:02:15,922 : INFO : PROGRESS: at sentence #700000, processed 5049412 words, keeping 196725 word types\n",
      "2020-12-04 15:02:15,951 : INFO : PROGRESS: at sentence #710000, processed 5121976 words, keeping 198516 word types\n"
     ]
    },
    {
     "name": "stderr",
     "output_type": "stream",
     "text": [
      "2020-12-04 15:02:15,979 : INFO : PROGRESS: at sentence #720000, processed 5193881 words, keeping 200325 word types\n",
      "2020-12-04 15:02:16,015 : INFO : PROGRESS: at sentence #730000, processed 5265467 words, keeping 202133 word types\n",
      "2020-12-04 15:02:16,047 : INFO : PROGRESS: at sentence #740000, processed 5337518 words, keeping 203818 word types\n",
      "2020-12-04 15:02:16,077 : INFO : PROGRESS: at sentence #750000, processed 5409321 words, keeping 205535 word types\n",
      "2020-12-04 15:02:16,107 : INFO : PROGRESS: at sentence #760000, processed 5481512 words, keeping 207282 word types\n",
      "2020-12-04 15:02:16,130 : INFO : PROGRESS: at sentence #770000, processed 5554093 words, keeping 209076 word types\n",
      "2020-12-04 15:02:16,157 : INFO : PROGRESS: at sentence #780000, processed 5625382 words, keeping 210805 word types\n",
      "2020-12-04 15:02:16,186 : INFO : PROGRESS: at sentence #790000, processed 5698066 words, keeping 212618 word types\n",
      "2020-12-04 15:02:16,215 : INFO : PROGRESS: at sentence #800000, processed 5770880 words, keeping 214374 word types\n",
      "2020-12-04 15:02:16,253 : INFO : PROGRESS: at sentence #810000, processed 5843418 words, keeping 216009 word types\n",
      "2020-12-04 15:02:16,278 : INFO : PROGRESS: at sentence #820000, processed 5915628 words, keeping 217804 word types\n",
      "2020-12-04 15:02:16,306 : INFO : PROGRESS: at sentence #830000, processed 5987499 words, keeping 219585 word types\n",
      "2020-12-04 15:02:16,339 : INFO : PROGRESS: at sentence #840000, processed 6058973 words, keeping 221344 word types\n",
      "2020-12-04 15:02:16,374 : INFO : PROGRESS: at sentence #850000, processed 6131125 words, keeping 223002 word types\n",
      "2020-12-04 15:02:16,402 : INFO : PROGRESS: at sentence #860000, processed 6202951 words, keeping 224643 word types\n",
      "2020-12-04 15:02:16,440 : INFO : PROGRESS: at sentence #870000, processed 6275461 words, keeping 226362 word types\n",
      "2020-12-04 15:02:16,467 : INFO : PROGRESS: at sentence #880000, processed 6347661 words, keeping 227986 word types\n",
      "2020-12-04 15:02:16,499 : INFO : PROGRESS: at sentence #890000, processed 6419806 words, keeping 229634 word types\n",
      "2020-12-04 15:02:16,529 : INFO : PROGRESS: at sentence #900000, processed 6491644 words, keeping 231389 word types\n",
      "2020-12-04 15:02:16,559 : INFO : PROGRESS: at sentence #910000, processed 6564022 words, keeping 233050 word types\n",
      "2020-12-04 15:02:16,587 : INFO : PROGRESS: at sentence #920000, processed 6636228 words, keeping 234686 word types\n",
      "2020-12-04 15:02:16,622 : INFO : PROGRESS: at sentence #930000, processed 6708573 words, keeping 236393 word types\n",
      "2020-12-04 15:02:16,645 : INFO : PROGRESS: at sentence #940000, processed 6779956 words, keeping 238052 word types\n",
      "2020-12-04 15:02:16,665 : INFO : PROGRESS: at sentence #950000, processed 6852599 words, keeping 239716 word types\n",
      "2020-12-04 15:02:16,695 : INFO : PROGRESS: at sentence #960000, processed 6924717 words, keeping 241354 word types\n",
      "2020-12-04 15:02:16,728 : INFO : PROGRESS: at sentence #970000, processed 6996992 words, keeping 242980 word types\n",
      "2020-12-04 15:02:16,761 : INFO : PROGRESS: at sentence #980000, processed 7068402 words, keeping 244646 word types\n",
      "2020-12-04 15:02:16,792 : INFO : PROGRESS: at sentence #990000, processed 7140346 words, keeping 246186 word types\n",
      "2020-12-04 15:02:16,819 : INFO : PROGRESS: at sentence #1000000, processed 7211757 words, keeping 247726 word types\n",
      "2020-12-04 15:02:16,858 : INFO : PROGRESS: at sentence #1010000, processed 7283267 words, keeping 249288 word types\n",
      "2020-12-04 15:02:16,893 : INFO : PROGRESS: at sentence #1020000, processed 7355299 words, keeping 250860 word types\n",
      "2020-12-04 15:02:16,926 : INFO : PROGRESS: at sentence #1030000, processed 7426918 words, keeping 252366 word types\n",
      "2020-12-04 15:02:16,962 : INFO : PROGRESS: at sentence #1040000, processed 7498815 words, keeping 253930 word types\n",
      "2020-12-04 15:02:17,008 : INFO : PROGRESS: at sentence #1050000, processed 7570499 words, keeping 255471 word types\n",
      "2020-12-04 15:02:17,051 : INFO : PROGRESS: at sentence #1060000, processed 7643251 words, keeping 257035 word types\n",
      "2020-12-04 15:02:17,086 : INFO : PROGRESS: at sentence #1070000, processed 7714721 words, keeping 258509 word types\n",
      "2020-12-04 15:02:17,112 : INFO : PROGRESS: at sentence #1080000, processed 7787371 words, keeping 260071 word types\n",
      "2020-12-04 15:02:17,136 : INFO : PROGRESS: at sentence #1090000, processed 7859336 words, keeping 261683 word types\n",
      "2020-12-04 15:02:17,162 : INFO : PROGRESS: at sentence #1100000, processed 7932029 words, keeping 263278 word types\n",
      "2020-12-04 15:02:17,186 : INFO : PROGRESS: at sentence #1110000, processed 8004146 words, keeping 264800 word types\n",
      "2020-12-04 15:02:17,211 : INFO : PROGRESS: at sentence #1120000, processed 8075880 words, keeping 266309 word types\n",
      "2020-12-04 15:02:17,232 : INFO : PROGRESS: at sentence #1130000, processed 8148163 words, keeping 267826 word types\n",
      "2020-12-04 15:02:17,254 : INFO : PROGRESS: at sentence #1140000, processed 8220487 words, keeping 269391 word types\n",
      "2020-12-04 15:02:17,274 : INFO : PROGRESS: at sentence #1150000, processed 8292498 words, keeping 270894 word types\n",
      "2020-12-04 15:02:17,296 : INFO : PROGRESS: at sentence #1160000, processed 8363838 words, keeping 272400 word types\n",
      "2020-12-04 15:02:17,319 : INFO : PROGRESS: at sentence #1170000, processed 8435510 words, keeping 273970 word types\n",
      "2020-12-04 15:02:17,341 : INFO : PROGRESS: at sentence #1180000, processed 8507795 words, keeping 275521 word types\n",
      "2020-12-04 15:02:17,360 : INFO : PROGRESS: at sentence #1190000, processed 8579080 words, keeping 277007 word types\n",
      "2020-12-04 15:02:17,385 : INFO : PROGRESS: at sentence #1200000, processed 8650606 words, keeping 278457 word types\n",
      "2020-12-04 15:02:17,407 : INFO : PROGRESS: at sentence #1210000, processed 8721893 words, keeping 279959 word types\n",
      "2020-12-04 15:02:17,428 : INFO : PROGRESS: at sentence #1220000, processed 8793795 words, keeping 281427 word types\n",
      "2020-12-04 15:02:17,457 : INFO : PROGRESS: at sentence #1230000, processed 8865726 words, keeping 282981 word types\n",
      "2020-12-04 15:02:17,479 : INFO : PROGRESS: at sentence #1240000, processed 8938173 words, keeping 284542 word types\n",
      "2020-12-04 15:02:17,501 : INFO : PROGRESS: at sentence #1250000, processed 9010842 words, keeping 286064 word types\n",
      "2020-12-04 15:02:17,520 : INFO : PROGRESS: at sentence #1260000, processed 9083261 words, keeping 287521 word types\n",
      "2020-12-04 15:02:17,541 : INFO : PROGRESS: at sentence #1270000, processed 9155616 words, keeping 288987 word types\n",
      "2020-12-04 15:02:17,560 : INFO : collected 290418 word types from a corpus of 9227204 raw words and 1280000 sentences\n",
      "2020-12-04 15:02:17,561 : INFO : Loading a fresh vocabulary\n",
      "2020-12-04 15:02:18,046 : INFO : effective_min_count=10 retains 30369 unique words (10% of original 290418, drops 260049)\n",
      "2020-12-04 15:02:18,047 : INFO : effective_min_count=10 leaves 8780739 word corpus (95% of original 9227204, drops 446465)\n",
      "2020-12-04 15:02:18,140 : INFO : deleting the raw counts dictionary of 290418 items\n",
      "2020-12-04 15:02:18,148 : INFO : sample=0.001 downsamples 45 most-common words\n",
      "2020-12-04 15:02:18,149 : INFO : downsampling leaves estimated 8222658 word corpus (93.6% of prior 8780739)\n",
      "2020-12-04 15:02:18,244 : INFO : estimated required memory for 30369 words and 300 dimensions: 88070100 bytes\n",
      "2020-12-04 15:02:18,245 : INFO : resetting layer weights\n"
     ]
    }
   ],
   "source": [
    "w2v_model.build_vocab(documents)"
   ]
  },
  {
   "cell_type": "code",
   "execution_count": 24,
   "metadata": {},
   "outputs": [
    {
     "name": "stdout",
     "output_type": "stream",
     "text": [
      "Vocab size 30369\n"
     ]
    }
   ],
   "source": [
    "words = w2v_model.wv.vocab.keys()\n",
    "vocab_size = len(words)\n",
    "print(\"Vocab size\", vocab_size)"
   ]
  },
  {
   "cell_type": "code",
   "execution_count": 25,
   "metadata": {},
   "outputs": [
    {
     "name": "stderr",
     "output_type": "stream",
     "text": [
      "2020-12-04 15:02:35,795 : INFO : training model with 8 workers on 30369 vocabulary and 300 features, using sg=0 hs=0 sample=0.001 negative=5 window=7\n",
      "2020-12-04 15:02:36,834 : INFO : EPOCH 1 - PROGRESS: at 8.90% examples, 721894 words/s, in_qsize 12, out_qsize 2\n",
      "2020-12-04 15:02:37,856 : INFO : EPOCH 1 - PROGRESS: at 19.62% examples, 792707 words/s, in_qsize 15, out_qsize 0\n",
      "2020-12-04 15:02:38,924 : INFO : EPOCH 1 - PROGRESS: at 29.38% examples, 778428 words/s, in_qsize 15, out_qsize 0\n",
      "2020-12-04 15:02:39,934 : INFO : EPOCH 1 - PROGRESS: at 37.70% examples, 754081 words/s, in_qsize 14, out_qsize 1\n",
      "2020-12-04 15:02:40,941 : INFO : EPOCH 1 - PROGRESS: at 45.48% examples, 731031 words/s, in_qsize 16, out_qsize 0\n",
      "2020-12-04 15:02:41,958 : INFO : EPOCH 1 - PROGRESS: at 52.62% examples, 705839 words/s, in_qsize 14, out_qsize 1\n",
      "2020-12-04 15:02:42,965 : INFO : EPOCH 1 - PROGRESS: at 59.76% examples, 688633 words/s, in_qsize 15, out_qsize 1\n",
      "2020-12-04 15:02:43,968 : INFO : EPOCH 1 - PROGRESS: at 66.36% examples, 670563 words/s, in_qsize 13, out_qsize 2\n",
      "2020-12-04 15:02:44,973 : INFO : EPOCH 1 - PROGRESS: at 72.86% examples, 655279 words/s, in_qsize 14, out_qsize 1\n",
      "2020-12-04 15:02:45,977 : INFO : EPOCH 1 - PROGRESS: at 79.81% examples, 646687 words/s, in_qsize 14, out_qsize 2\n",
      "2020-12-04 15:02:47,000 : INFO : EPOCH 1 - PROGRESS: at 87.29% examples, 642476 words/s, in_qsize 15, out_qsize 0\n",
      "2020-12-04 15:02:48,015 : INFO : EPOCH 1 - PROGRESS: at 93.70% examples, 632038 words/s, in_qsize 13, out_qsize 2\n",
      "2020-12-04 15:02:49,022 : INFO : EPOCH 1 - PROGRESS: at 98.36% examples, 612838 words/s, in_qsize 15, out_qsize 0\n",
      "2020-12-04 15:02:49,175 : INFO : worker thread finished; awaiting finish of 7 more threads\n",
      "2020-12-04 15:02:49,211 : INFO : worker thread finished; awaiting finish of 6 more threads\n",
      "2020-12-04 15:02:49,242 : INFO : worker thread finished; awaiting finish of 5 more threads\n",
      "2020-12-04 15:02:49,248 : INFO : worker thread finished; awaiting finish of 4 more threads\n",
      "2020-12-04 15:02:49,257 : INFO : worker thread finished; awaiting finish of 3 more threads\n",
      "2020-12-04 15:02:49,258 : INFO : worker thread finished; awaiting finish of 2 more threads\n",
      "2020-12-04 15:02:49,291 : INFO : worker thread finished; awaiting finish of 1 more threads\n",
      "2020-12-04 15:02:49,334 : INFO : worker thread finished; awaiting finish of 0 more threads\n",
      "2020-12-04 15:02:49,335 : INFO : EPOCH - 1 : training on 9227204 raw words (8224147 effective words) took 13.5s, 608629 effective words/s\n",
      "2020-12-04 15:02:50,351 : INFO : EPOCH 2 - PROGRESS: at 6.40% examples, 524203 words/s, in_qsize 15, out_qsize 2\n",
      "2020-12-04 15:02:51,364 : INFO : EPOCH 2 - PROGRESS: at 12.82% examples, 521555 words/s, in_qsize 9, out_qsize 6\n",
      "2020-12-04 15:02:52,422 : INFO : EPOCH 2 - PROGRESS: at 19.62% examples, 524557 words/s, in_qsize 11, out_qsize 6\n",
      "2020-12-04 15:02:53,476 : INFO : EPOCH 2 - PROGRESS: at 26.88% examples, 535324 words/s, in_qsize 15, out_qsize 1\n",
      "2020-12-04 15:02:54,517 : INFO : EPOCH 2 - PROGRESS: at 33.70% examples, 535999 words/s, in_qsize 14, out_qsize 1\n",
      "2020-12-04 15:02:55,541 : INFO : EPOCH 2 - PROGRESS: at 40.62% examples, 539406 words/s, in_qsize 14, out_qsize 1\n",
      "2020-12-04 15:02:56,629 : INFO : EPOCH 2 - PROGRESS: at 47.65% examples, 538260 words/s, in_qsize 15, out_qsize 1\n",
      "2020-12-04 15:02:57,720 : INFO : EPOCH 2 - PROGRESS: at 54.78% examples, 538460 words/s, in_qsize 14, out_qsize 1\n",
      "2020-12-04 15:02:58,741 : INFO : EPOCH 2 - PROGRESS: at 61.71% examples, 540656 words/s, in_qsize 15, out_qsize 0\n",
      "2020-12-04 15:02:59,763 : INFO : EPOCH 2 - PROGRESS: at 69.50% examples, 549170 words/s, in_qsize 15, out_qsize 0\n",
      "2020-12-04 15:03:00,765 : INFO : EPOCH 2 - PROGRESS: at 78.51% examples, 565757 words/s, in_qsize 15, out_qsize 0\n",
      "2020-12-04 15:03:01,776 : INFO : EPOCH 2 - PROGRESS: at 88.48% examples, 585653 words/s, in_qsize 15, out_qsize 0\n",
      "2020-12-04 15:03:02,787 : INFO : EPOCH 2 - PROGRESS: at 98.36% examples, 601899 words/s, in_qsize 14, out_qsize 1\n",
      "2020-12-04 15:03:02,866 : INFO : worker thread finished; awaiting finish of 7 more threads\n",
      "2020-12-04 15:03:02,867 : INFO : worker thread finished; awaiting finish of 6 more threads\n",
      "2020-12-04 15:03:02,877 : INFO : worker thread finished; awaiting finish of 5 more threads\n",
      "2020-12-04 15:03:02,898 : INFO : worker thread finished; awaiting finish of 4 more threads\n",
      "2020-12-04 15:03:02,911 : INFO : worker thread finished; awaiting finish of 3 more threads\n",
      "2020-12-04 15:03:02,930 : INFO : worker thread finished; awaiting finish of 2 more threads\n",
      "2020-12-04 15:03:02,943 : INFO : worker thread finished; awaiting finish of 1 more threads\n",
      "2020-12-04 15:03:02,944 : INFO : worker thread finished; awaiting finish of 0 more threads\n",
      "2020-12-04 15:03:02,945 : INFO : EPOCH - 2 : training on 9227204 raw words (8222564 effective words) took 13.6s, 604779 effective words/s\n",
      "2020-12-04 15:03:03,983 : INFO : EPOCH 3 - PROGRESS: at 8.26% examples, 667391 words/s, in_qsize 16, out_qsize 1\n",
      "2020-12-04 15:03:04,983 : INFO : EPOCH 3 - PROGRESS: at 18.43% examples, 751496 words/s, in_qsize 15, out_qsize 0\n",
      "2020-12-04 15:03:05,997 : INFO : EPOCH 3 - PROGRESS: at 29.05% examples, 788117 words/s, in_qsize 15, out_qsize 0\n",
      "2020-12-04 15:03:07,001 : INFO : EPOCH 3 - PROGRESS: at 39.22% examples, 799425 words/s, in_qsize 14, out_qsize 1\n",
      "2020-12-04 15:03:08,003 : INFO : EPOCH 3 - PROGRESS: at 49.92% examples, 815569 words/s, in_qsize 16, out_qsize 0\n",
      "2020-12-04 15:03:09,004 : INFO : EPOCH 3 - PROGRESS: at 60.52% examples, 825097 words/s, in_qsize 15, out_qsize 0\n",
      "2020-12-04 15:03:10,017 : INFO : EPOCH 3 - PROGRESS: at 71.02% examples, 829105 words/s, in_qsize 15, out_qsize 0\n",
      "2020-12-04 15:03:11,019 : INFO : EPOCH 3 - PROGRESS: at 81.77% examples, 835351 words/s, in_qsize 16, out_qsize 0\n",
      "2020-12-04 15:03:12,030 : INFO : EPOCH 3 - PROGRESS: at 92.17% examples, 836529 words/s, in_qsize 15, out_qsize 0\n",
      "2020-12-04 15:03:12,641 : INFO : worker thread finished; awaiting finish of 7 more threads\n",
      "2020-12-04 15:03:12,670 : INFO : worker thread finished; awaiting finish of 6 more threads\n",
      "2020-12-04 15:03:12,682 : INFO : worker thread finished; awaiting finish of 5 more threads\n",
      "2020-12-04 15:03:12,691 : INFO : worker thread finished; awaiting finish of 4 more threads\n",
      "2020-12-04 15:03:12,734 : INFO : worker thread finished; awaiting finish of 3 more threads\n",
      "2020-12-04 15:03:12,745 : INFO : worker thread finished; awaiting finish of 2 more threads\n",
      "2020-12-04 15:03:12,754 : INFO : worker thread finished; awaiting finish of 1 more threads\n",
      "2020-12-04 15:03:12,758 : INFO : worker thread finished; awaiting finish of 0 more threads\n",
      "2020-12-04 15:03:12,759 : INFO : EPOCH - 3 : training on 9227204 raw words (8223066 effective words) took 9.8s, 839842 effective words/s\n",
      "2020-12-04 15:03:13,788 : INFO : EPOCH 4 - PROGRESS: at 10.21% examples, 827101 words/s, in_qsize 15, out_qsize 1\n",
      "2020-12-04 15:03:14,800 : INFO : EPOCH 4 - PROGRESS: at 21.03% examples, 853497 words/s, in_qsize 15, out_qsize 0\n",
      "2020-12-04 15:03:15,810 : INFO : EPOCH 4 - PROGRESS: at 31.76% examples, 860203 words/s, in_qsize 16, out_qsize 1\n",
      "2020-12-04 15:03:16,829 : INFO : EPOCH 4 - PROGRESS: at 42.57% examples, 863740 words/s, in_qsize 14, out_qsize 1\n",
      "2020-12-04 15:03:17,833 : INFO : EPOCH 4 - PROGRESS: at 53.27% examples, 866683 words/s, in_qsize 15, out_qsize 0\n",
      "2020-12-04 15:03:18,842 : INFO : EPOCH 4 - PROGRESS: at 63.87% examples, 866452 words/s, in_qsize 14, out_qsize 1\n",
      "2020-12-04 15:03:19,869 : INFO : EPOCH 4 - PROGRESS: at 74.92% examples, 869001 words/s, in_qsize 15, out_qsize 0\n",
      "2020-12-04 15:03:20,869 : INFO : EPOCH 4 - PROGRESS: at 85.98% examples, 873867 words/s, in_qsize 16, out_qsize 0\n",
      "2020-12-04 15:03:21,875 : INFO : EPOCH 4 - PROGRESS: at 97.18% examples, 878064 words/s, in_qsize 15, out_qsize 0\n",
      "2020-12-04 15:03:22,096 : INFO : worker thread finished; awaiting finish of 7 more threads\n",
      "2020-12-04 15:03:22,098 : INFO : worker thread finished; awaiting finish of 6 more threads\n",
      "2020-12-04 15:03:22,099 : INFO : worker thread finished; awaiting finish of 5 more threads\n",
      "2020-12-04 15:03:22,099 : INFO : worker thread finished; awaiting finish of 4 more threads\n",
      "2020-12-04 15:03:22,106 : INFO : worker thread finished; awaiting finish of 3 more threads\n"
     ]
    },
    {
     "name": "stderr",
     "output_type": "stream",
     "text": [
      "2020-12-04 15:03:22,113 : INFO : worker thread finished; awaiting finish of 2 more threads\n",
      "2020-12-04 15:03:22,145 : INFO : worker thread finished; awaiting finish of 1 more threads\n",
      "2020-12-04 15:03:22,149 : INFO : worker thread finished; awaiting finish of 0 more threads\n",
      "2020-12-04 15:03:22,149 : INFO : EPOCH - 4 : training on 9227204 raw words (8222860 effective words) took 9.4s, 877212 effective words/s\n",
      "2020-12-04 15:03:23,183 : INFO : EPOCH 5 - PROGRESS: at 10.75% examples, 874953 words/s, in_qsize 15, out_qsize 0\n",
      "2020-12-04 15:03:24,188 : INFO : EPOCH 5 - PROGRESS: at 21.68% examples, 884956 words/s, in_qsize 16, out_qsize 0\n",
      "2020-12-04 15:03:25,204 : INFO : EPOCH 5 - PROGRESS: at 32.73% examples, 888486 words/s, in_qsize 13, out_qsize 2\n",
      "2020-12-04 15:03:26,206 : INFO : EPOCH 5 - PROGRESS: at 43.64% examples, 890805 words/s, in_qsize 15, out_qsize 0\n",
      "2020-12-04 15:03:27,221 : INFO : EPOCH 5 - PROGRESS: at 54.46% examples, 888292 words/s, in_qsize 15, out_qsize 0\n",
      "2020-12-04 15:03:28,233 : INFO : EPOCH 5 - PROGRESS: at 65.17% examples, 885492 words/s, in_qsize 15, out_qsize 1\n",
      "2020-12-04 15:03:29,239 : INFO : EPOCH 5 - PROGRESS: at 76.22% examples, 887994 words/s, in_qsize 15, out_qsize 0\n",
      "2020-12-04 15:03:30,254 : INFO : EPOCH 5 - PROGRESS: at 87.29% examples, 888763 words/s, in_qsize 15, out_qsize 0\n",
      "2020-12-04 15:03:31,257 : INFO : EPOCH 5 - PROGRESS: at 98.26% examples, 889619 words/s, in_qsize 14, out_qsize 1\n",
      "2020-12-04 15:03:31,362 : INFO : worker thread finished; awaiting finish of 7 more threads\n",
      "2020-12-04 15:03:31,366 : INFO : worker thread finished; awaiting finish of 6 more threads\n",
      "2020-12-04 15:03:31,371 : INFO : worker thread finished; awaiting finish of 5 more threads\n",
      "2020-12-04 15:03:31,371 : INFO : worker thread finished; awaiting finish of 4 more threads\n",
      "2020-12-04 15:03:31,397 : INFO : worker thread finished; awaiting finish of 3 more threads\n",
      "2020-12-04 15:03:31,420 : INFO : worker thread finished; awaiting finish of 2 more threads\n",
      "2020-12-04 15:03:31,439 : INFO : worker thread finished; awaiting finish of 1 more threads\n",
      "2020-12-04 15:03:31,454 : INFO : worker thread finished; awaiting finish of 0 more threads\n",
      "2020-12-04 15:03:31,455 : INFO : EPOCH - 5 : training on 9227204 raw words (8222850 effective words) took 9.3s, 886151 effective words/s\n",
      "2020-12-04 15:03:32,500 : INFO : EPOCH 6 - PROGRESS: at 10.10% examples, 805053 words/s, in_qsize 13, out_qsize 2\n",
      "2020-12-04 15:03:33,502 : INFO : EPOCH 6 - PROGRESS: at 21.14% examples, 854940 words/s, in_qsize 13, out_qsize 2\n",
      "2020-12-04 15:03:34,513 : INFO : EPOCH 6 - PROGRESS: at 32.08% examples, 866580 words/s, in_qsize 16, out_qsize 0\n",
      "2020-12-04 15:03:35,535 : INFO : EPOCH 6 - PROGRESS: at 43.11% examples, 872329 words/s, in_qsize 14, out_qsize 1\n",
      "2020-12-04 15:03:36,536 : INFO : EPOCH 6 - PROGRESS: at 53.92% examples, 875803 words/s, in_qsize 15, out_qsize 0\n",
      "2020-12-04 15:03:37,557 : INFO : EPOCH 6 - PROGRESS: at 62.79% examples, 848984 words/s, in_qsize 14, out_qsize 1\n",
      "2020-12-04 15:03:38,559 : INFO : EPOCH 6 - PROGRESS: at 72.43% examples, 840844 words/s, in_qsize 15, out_qsize 0\n",
      "2020-12-04 15:03:39,567 : INFO : EPOCH 6 - PROGRESS: at 83.29% examples, 846131 words/s, in_qsize 15, out_qsize 0\n",
      "2020-12-04 15:03:40,573 : INFO : EPOCH 6 - PROGRESS: at 94.04% examples, 849456 words/s, in_qsize 14, out_qsize 1\n",
      "2020-12-04 15:03:41,046 : INFO : worker thread finished; awaiting finish of 7 more threads\n",
      "2020-12-04 15:03:41,061 : INFO : worker thread finished; awaiting finish of 6 more threads\n",
      "2020-12-04 15:03:41,071 : INFO : worker thread finished; awaiting finish of 5 more threads\n",
      "2020-12-04 15:03:41,100 : INFO : worker thread finished; awaiting finish of 4 more threads\n",
      "2020-12-04 15:03:41,111 : INFO : worker thread finished; awaiting finish of 3 more threads\n",
      "2020-12-04 15:03:41,112 : INFO : worker thread finished; awaiting finish of 2 more threads\n",
      "2020-12-04 15:03:41,118 : INFO : worker thread finished; awaiting finish of 1 more threads\n",
      "2020-12-04 15:03:41,124 : INFO : worker thread finished; awaiting finish of 0 more threads\n",
      "2020-12-04 15:03:41,124 : INFO : EPOCH - 6 : training on 9227204 raw words (8223254 effective words) took 9.7s, 851795 effective words/s\n",
      "2020-12-04 15:03:42,138 : INFO : EPOCH 7 - PROGRESS: at 10.10% examples, 826481 words/s, in_qsize 15, out_qsize 0\n",
      "2020-12-04 15:03:43,149 : INFO : EPOCH 7 - PROGRESS: at 20.92% examples, 853771 words/s, in_qsize 16, out_qsize 0\n",
      "2020-12-04 15:03:44,171 : INFO : EPOCH 7 - PROGRESS: at 31.97% examples, 865615 words/s, in_qsize 16, out_qsize 0\n",
      "2020-12-04 15:03:45,183 : INFO : EPOCH 7 - PROGRESS: at 42.56% examples, 864925 words/s, in_qsize 15, out_qsize 0\n",
      "2020-12-04 15:03:46,189 : INFO : EPOCH 7 - PROGRESS: at 52.94% examples, 862030 words/s, in_qsize 15, out_qsize 2\n",
      "2020-12-04 15:03:47,190 : INFO : EPOCH 7 - PROGRESS: at 63.76% examples, 866721 words/s, in_qsize 16, out_qsize 0\n",
      "2020-12-04 15:03:48,236 : INFO : EPOCH 7 - PROGRESS: at 74.70% examples, 865686 words/s, in_qsize 13, out_qsize 2\n",
      "2020-12-04 15:03:49,240 : INFO : EPOCH 7 - PROGRESS: at 85.56% examples, 868356 words/s, in_qsize 15, out_qsize 0\n",
      "2020-12-04 15:03:50,264 : INFO : EPOCH 7 - PROGRESS: at 96.53% examples, 869433 words/s, in_qsize 16, out_qsize 0\n",
      "2020-12-04 15:03:50,506 : INFO : worker thread finished; awaiting finish of 7 more threads\n",
      "2020-12-04 15:03:50,516 : INFO : worker thread finished; awaiting finish of 6 more threads\n",
      "2020-12-04 15:03:50,517 : INFO : worker thread finished; awaiting finish of 5 more threads\n",
      "2020-12-04 15:03:50,518 : INFO : worker thread finished; awaiting finish of 4 more threads\n",
      "2020-12-04 15:03:50,537 : INFO : worker thread finished; awaiting finish of 3 more threads\n",
      "2020-12-04 15:03:50,548 : INFO : worker thread finished; awaiting finish of 2 more threads\n",
      "2020-12-04 15:03:50,551 : INFO : worker thread finished; awaiting finish of 1 more threads\n",
      "2020-12-04 15:03:50,566 : INFO : worker thread finished; awaiting finish of 0 more threads\n",
      "2020-12-04 15:03:50,566 : INFO : EPOCH - 7 : training on 9227204 raw words (8223007 effective words) took 9.4s, 871952 effective words/s\n",
      "2020-12-04 15:03:51,587 : INFO : EPOCH 8 - PROGRESS: at 10.42% examples, 849148 words/s, in_qsize 16, out_qsize 0\n",
      "2020-12-04 15:03:52,587 : INFO : EPOCH 8 - PROGRESS: at 21.13% examples, 865210 words/s, in_qsize 16, out_qsize 0\n",
      "2020-12-04 15:03:53,590 : INFO : EPOCH 8 - PROGRESS: at 31.54% examples, 861298 words/s, in_qsize 14, out_qsize 2\n",
      "2020-12-04 15:03:54,597 : INFO : EPOCH 8 - PROGRESS: at 42.46% examples, 869259 words/s, in_qsize 16, out_qsize 0\n",
      "2020-12-04 15:03:55,611 : INFO : EPOCH 8 - PROGRESS: at 53.48% examples, 874664 words/s, in_qsize 15, out_qsize 0\n",
      "2020-12-04 15:03:56,660 : INFO : EPOCH 8 - PROGRESS: at 64.30% examples, 870309 words/s, in_qsize 14, out_qsize 1\n",
      "2020-12-04 15:03:57,673 : INFO : EPOCH 8 - PROGRESS: at 75.78% examples, 879057 words/s, in_qsize 15, out_qsize 0\n",
      "2020-12-04 15:03:58,676 : INFO : EPOCH 8 - PROGRESS: at 85.99% examples, 873566 words/s, in_qsize 16, out_qsize 0\n",
      "2020-12-04 15:03:59,685 : INFO : EPOCH 8 - PROGRESS: at 97.07% examples, 876496 words/s, in_qsize 16, out_qsize 0\n",
      "2020-12-04 15:03:59,900 : INFO : worker thread finished; awaiting finish of 7 more threads\n",
      "2020-12-04 15:03:59,919 : INFO : worker thread finished; awaiting finish of 6 more threads\n",
      "2020-12-04 15:03:59,925 : INFO : worker thread finished; awaiting finish of 5 more threads\n",
      "2020-12-04 15:03:59,926 : INFO : worker thread finished; awaiting finish of 4 more threads\n",
      "2020-12-04 15:03:59,932 : INFO : worker thread finished; awaiting finish of 3 more threads\n",
      "2020-12-04 15:03:59,933 : INFO : worker thread finished; awaiting finish of 2 more threads\n",
      "2020-12-04 15:03:59,944 : INFO : worker thread finished; awaiting finish of 1 more threads\n",
      "2020-12-04 15:03:59,959 : INFO : worker thread finished; awaiting finish of 0 more threads\n",
      "2020-12-04 15:03:59,959 : INFO : EPOCH - 8 : training on 9227204 raw words (8222433 effective words) took 9.4s, 876643 effective words/s\n",
      "2020-12-04 15:04:00,997 : INFO : EPOCH 9 - PROGRESS: at 10.75% examples, 860292 words/s, in_qsize 14, out_qsize 1\n",
      "2020-12-04 15:04:02,006 : INFO : EPOCH 9 - PROGRESS: at 21.35% examples, 862475 words/s, in_qsize 15, out_qsize 0\n"
     ]
    },
    {
     "name": "stderr",
     "output_type": "stream",
     "text": [
      "2020-12-04 15:04:03,020 : INFO : EPOCH 9 - PROGRESS: at 31.65% examples, 853200 words/s, in_qsize 15, out_qsize 4\n",
      "2020-12-04 15:04:04,036 : INFO : EPOCH 9 - PROGRESS: at 40.73% examples, 823916 words/s, in_qsize 16, out_qsize 0\n",
      "2020-12-04 15:04:05,078 : INFO : EPOCH 9 - PROGRESS: at 50.24% examples, 809389 words/s, in_qsize 16, out_qsize 4\n",
      "2020-12-04 15:04:06,085 : INFO : EPOCH 9 - PROGRESS: at 61.28% examples, 824789 words/s, in_qsize 15, out_qsize 0\n",
      "2020-12-04 15:04:07,091 : INFO : EPOCH 9 - PROGRESS: at 72.42% examples, 837253 words/s, in_qsize 16, out_qsize 0\n",
      "2020-12-04 15:04:08,112 : INFO : EPOCH 9 - PROGRESS: at 83.07% examples, 839459 words/s, in_qsize 15, out_qsize 0\n",
      "2020-12-04 15:04:09,165 : INFO : EPOCH 9 - PROGRESS: at 94.15% examples, 841998 words/s, in_qsize 16, out_qsize 1\n",
      "2020-12-04 15:04:09,638 : INFO : worker thread finished; awaiting finish of 7 more threads\n",
      "2020-12-04 15:04:09,641 : INFO : worker thread finished; awaiting finish of 6 more threads\n",
      "2020-12-04 15:04:09,642 : INFO : worker thread finished; awaiting finish of 5 more threads\n",
      "2020-12-04 15:04:09,643 : INFO : worker thread finished; awaiting finish of 4 more threads\n",
      "2020-12-04 15:04:09,644 : INFO : worker thread finished; awaiting finish of 3 more threads\n",
      "2020-12-04 15:04:09,644 : INFO : worker thread finished; awaiting finish of 2 more threads\n",
      "2020-12-04 15:04:09,654 : INFO : worker thread finished; awaiting finish of 1 more threads\n",
      "2020-12-04 15:04:09,674 : INFO : worker thread finished; awaiting finish of 0 more threads\n",
      "2020-12-04 15:04:09,675 : INFO : EPOCH - 9 : training on 9227204 raw words (8223302 effective words) took 9.7s, 847506 effective words/s\n",
      "2020-12-04 15:04:10,696 : INFO : EPOCH 10 - PROGRESS: at 10.31% examples, 837980 words/s, in_qsize 15, out_qsize 0\n",
      "2020-12-04 15:04:11,700 : INFO : EPOCH 10 - PROGRESS: at 21.03% examples, 857858 words/s, in_qsize 15, out_qsize 0\n",
      "2020-12-04 15:04:12,712 : INFO : EPOCH 10 - PROGRESS: at 31.86% examples, 865651 words/s, in_qsize 14, out_qsize 1\n",
      "2020-12-04 15:04:13,734 : INFO : EPOCH 10 - PROGRESS: at 42.78% examples, 869186 words/s, in_qsize 15, out_qsize 0\n",
      "2020-12-04 15:04:14,742 : INFO : EPOCH 10 - PROGRESS: at 53.27% examples, 866949 words/s, in_qsize 14, out_qsize 1\n",
      "2020-12-04 15:04:15,744 : INFO : EPOCH 10 - PROGRESS: at 64.08% examples, 870651 words/s, in_qsize 15, out_qsize 0\n",
      "2020-12-04 15:04:16,754 : INFO : EPOCH 10 - PROGRESS: at 74.80% examples, 871013 words/s, in_qsize 16, out_qsize 0\n",
      "2020-12-04 15:04:17,768 : INFO : EPOCH 10 - PROGRESS: at 85.77% examples, 873049 words/s, in_qsize 15, out_qsize 1\n",
      "2020-12-04 15:04:18,785 : INFO : EPOCH 10 - PROGRESS: at 96.96% examples, 876198 words/s, in_qsize 15, out_qsize 0\n",
      "2020-12-04 15:04:19,019 : INFO : worker thread finished; awaiting finish of 7 more threads\n",
      "2020-12-04 15:04:19,020 : INFO : worker thread finished; awaiting finish of 6 more threads\n",
      "2020-12-04 15:04:19,021 : INFO : worker thread finished; awaiting finish of 5 more threads\n",
      "2020-12-04 15:04:19,022 : INFO : worker thread finished; awaiting finish of 4 more threads\n",
      "2020-12-04 15:04:19,026 : INFO : worker thread finished; awaiting finish of 3 more threads\n",
      "2020-12-04 15:04:19,035 : INFO : worker thread finished; awaiting finish of 2 more threads\n",
      "2020-12-04 15:04:19,043 : INFO : worker thread finished; awaiting finish of 1 more threads\n",
      "2020-12-04 15:04:19,049 : INFO : worker thread finished; awaiting finish of 0 more threads\n",
      "2020-12-04 15:04:19,050 : INFO : EPOCH - 10 : training on 9227204 raw words (8222643 effective words) took 9.4s, 878119 effective words/s\n",
      "2020-12-04 15:04:20,067 : INFO : EPOCH 11 - PROGRESS: at 10.53% examples, 861855 words/s, in_qsize 15, out_qsize 0\n",
      "2020-12-04 15:04:21,080 : INFO : EPOCH 11 - PROGRESS: at 21.03% examples, 857586 words/s, in_qsize 15, out_qsize 0\n",
      "2020-12-04 15:04:22,086 : INFO : EPOCH 11 - PROGRESS: at 31.21% examples, 849107 words/s, in_qsize 10, out_qsize 5\n",
      "2020-12-04 15:04:23,092 : INFO : EPOCH 11 - PROGRESS: at 41.92% examples, 855938 words/s, in_qsize 16, out_qsize 0\n",
      "2020-12-04 15:04:24,114 : INFO : EPOCH 11 - PROGRESS: at 52.62% examples, 857451 words/s, in_qsize 15, out_qsize 0\n",
      "2020-12-04 15:04:25,142 : INFO : EPOCH 11 - PROGRESS: at 63.76% examples, 863431 words/s, in_qsize 16, out_qsize 0\n",
      "2020-12-04 15:04:26,154 : INFO : EPOCH 11 - PROGRESS: at 74.70% examples, 867158 words/s, in_qsize 15, out_qsize 0\n",
      "2020-12-04 15:04:27,168 : INFO : EPOCH 11 - PROGRESS: at 85.66% examples, 869651 words/s, in_qsize 16, out_qsize 0\n",
      "2020-12-04 15:04:28,178 : INFO : EPOCH 11 - PROGRESS: at 94.03% examples, 848488 words/s, in_qsize 15, out_qsize 4\n",
      "2020-12-04 15:04:28,796 : INFO : worker thread finished; awaiting finish of 7 more threads\n",
      "2020-12-04 15:04:28,798 : INFO : worker thread finished; awaiting finish of 6 more threads\n",
      "2020-12-04 15:04:28,799 : INFO : worker thread finished; awaiting finish of 5 more threads\n",
      "2020-12-04 15:04:28,799 : INFO : worker thread finished; awaiting finish of 4 more threads\n",
      "2020-12-04 15:04:28,810 : INFO : worker thread finished; awaiting finish of 3 more threads\n",
      "2020-12-04 15:04:28,849 : INFO : worker thread finished; awaiting finish of 2 more threads\n",
      "2020-12-04 15:04:28,852 : INFO : worker thread finished; awaiting finish of 1 more threads\n",
      "2020-12-04 15:04:28,854 : INFO : worker thread finished; awaiting finish of 0 more threads\n",
      "2020-12-04 15:04:28,855 : INFO : EPOCH - 11 : training on 9227204 raw words (8222934 effective words) took 9.8s, 839937 effective words/s\n",
      "2020-12-04 15:04:29,872 : INFO : EPOCH 12 - PROGRESS: at 8.69% examples, 710792 words/s, in_qsize 16, out_qsize 1\n",
      "2020-12-04 15:04:30,890 : INFO : EPOCH 12 - PROGRESS: at 18.32% examples, 744720 words/s, in_qsize 15, out_qsize 2\n",
      "2020-12-04 15:04:31,905 : INFO : EPOCH 12 - PROGRESS: at 28.50% examples, 771788 words/s, in_qsize 14, out_qsize 1\n",
      "2020-12-04 15:04:32,918 : INFO : EPOCH 12 - PROGRESS: at 38.78% examples, 787796 words/s, in_qsize 13, out_qsize 2\n",
      "2020-12-04 15:04:33,942 : INFO : EPOCH 12 - PROGRESS: at 49.81% examples, 807846 words/s, in_qsize 16, out_qsize 0\n",
      "2020-12-04 15:04:34,948 : INFO : EPOCH 12 - PROGRESS: at 60.74% examples, 822238 words/s, in_qsize 15, out_qsize 0\n",
      "2020-12-04 15:04:35,949 : INFO : EPOCH 12 - PROGRESS: at 71.67% examples, 833097 words/s, in_qsize 15, out_qsize 0\n",
      "2020-12-04 15:04:36,968 : INFO : EPOCH 12 - PROGRESS: at 82.42% examples, 837122 words/s, in_qsize 16, out_qsize 0\n",
      "2020-12-04 15:04:37,975 : INFO : EPOCH 12 - PROGRESS: at 93.05% examples, 840290 words/s, in_qsize 15, out_qsize 0\n",
      "2020-12-04 15:04:38,577 : INFO : worker thread finished; awaiting finish of 7 more threads\n",
      "2020-12-04 15:04:38,605 : INFO : worker thread finished; awaiting finish of 6 more threads\n",
      "2020-12-04 15:04:38,607 : INFO : worker thread finished; awaiting finish of 5 more threads\n",
      "2020-12-04 15:04:38,607 : INFO : worker thread finished; awaiting finish of 4 more threads\n",
      "2020-12-04 15:04:38,642 : INFO : worker thread finished; awaiting finish of 3 more threads\n",
      "2020-12-04 15:04:38,645 : INFO : worker thread finished; awaiting finish of 2 more threads\n",
      "2020-12-04 15:04:38,670 : INFO : worker thread finished; awaiting finish of 1 more threads\n",
      "2020-12-04 15:04:38,671 : INFO : worker thread finished; awaiting finish of 0 more threads\n",
      "2020-12-04 15:04:38,672 : INFO : EPOCH - 12 : training on 9227204 raw words (8223134 effective words) took 9.8s, 838877 effective words/s\n",
      "2020-12-04 15:04:39,685 : INFO : EPOCH 13 - PROGRESS: at 9.99% examples, 818994 words/s, in_qsize 15, out_qsize 0\n",
      "2020-12-04 15:04:40,687 : INFO : EPOCH 13 - PROGRESS: at 20.92% examples, 858471 words/s, in_qsize 15, out_qsize 0\n",
      "2020-12-04 15:04:41,695 : INFO : EPOCH 13 - PROGRESS: at 31.64% examples, 864221 words/s, in_qsize 16, out_qsize 0\n",
      "2020-12-04 15:04:42,712 : INFO : EPOCH 13 - PROGRESS: at 42.57% examples, 869320 words/s, in_qsize 16, out_qsize 0\n",
      "2020-12-04 15:04:43,722 : INFO : EPOCH 13 - PROGRESS: at 53.27% examples, 870037 words/s, in_qsize 14, out_qsize 2\n",
      "2020-12-04 15:04:44,725 : INFO : EPOCH 13 - PROGRESS: at 63.87% examples, 870159 words/s, in_qsize 16, out_qsize 0\n",
      "2020-12-04 15:04:45,751 : INFO : EPOCH 13 - PROGRESS: at 74.26% examples, 864778 words/s, in_qsize 15, out_qsize 1\n",
      "2020-12-04 15:04:46,769 : INFO : EPOCH 13 - PROGRESS: at 84.69% examples, 861691 words/s, in_qsize 15, out_qsize 0\n"
     ]
    },
    {
     "name": "stderr",
     "output_type": "stream",
     "text": [
      "2020-12-04 15:04:47,780 : INFO : EPOCH 13 - PROGRESS: at 95.44% examples, 862742 words/s, in_qsize 16, out_qsize 0\n",
      "2020-12-04 15:04:48,115 : INFO : worker thread finished; awaiting finish of 7 more threads\n",
      "2020-12-04 15:04:48,129 : INFO : worker thread finished; awaiting finish of 6 more threads\n",
      "2020-12-04 15:04:48,148 : INFO : worker thread finished; awaiting finish of 5 more threads\n",
      "2020-12-04 15:04:48,156 : INFO : worker thread finished; awaiting finish of 4 more threads\n",
      "2020-12-04 15:04:48,161 : INFO : worker thread finished; awaiting finish of 3 more threads\n",
      "2020-12-04 15:04:48,161 : INFO : worker thread finished; awaiting finish of 2 more threads\n",
      "2020-12-04 15:04:48,173 : INFO : worker thread finished; awaiting finish of 1 more threads\n",
      "2020-12-04 15:04:48,183 : INFO : worker thread finished; awaiting finish of 0 more threads\n",
      "2020-12-04 15:04:48,183 : INFO : EPOCH - 13 : training on 9227204 raw words (8222238 effective words) took 9.5s, 865583 effective words/s\n",
      "2020-12-04 15:04:49,202 : INFO : EPOCH 14 - PROGRESS: at 10.42% examples, 851205 words/s, in_qsize 16, out_qsize 1\n",
      "2020-12-04 15:04:50,208 : INFO : EPOCH 14 - PROGRESS: at 21.46% examples, 876869 words/s, in_qsize 16, out_qsize 0\n",
      "2020-12-04 15:04:51,214 : INFO : EPOCH 14 - PROGRESS: at 31.65% examples, 862162 words/s, in_qsize 16, out_qsize 1\n",
      "2020-12-04 15:04:52,237 : INFO : EPOCH 14 - PROGRESS: at 42.78% examples, 870684 words/s, in_qsize 14, out_qsize 1\n",
      "2020-12-04 15:04:53,253 : INFO : EPOCH 14 - PROGRESS: at 53.38% examples, 868424 words/s, in_qsize 14, out_qsize 1\n",
      "2020-12-04 15:04:54,264 : INFO : EPOCH 14 - PROGRESS: at 64.08% examples, 869092 words/s, in_qsize 15, out_qsize 0\n",
      "2020-12-04 15:04:55,273 : INFO : EPOCH 14 - PROGRESS: at 74.70% examples, 868526 words/s, in_qsize 15, out_qsize 0\n",
      "2020-12-04 15:04:56,281 : INFO : EPOCH 14 - PROGRESS: at 85.45% examples, 869350 words/s, in_qsize 14, out_qsize 1\n",
      "2020-12-04 15:04:57,284 : INFO : EPOCH 14 - PROGRESS: at 96.10% examples, 869321 words/s, in_qsize 15, out_qsize 0\n",
      "2020-12-04 15:04:57,576 : INFO : worker thread finished; awaiting finish of 7 more threads\n",
      "2020-12-04 15:04:57,585 : INFO : worker thread finished; awaiting finish of 6 more threads\n",
      "2020-12-04 15:04:57,594 : INFO : worker thread finished; awaiting finish of 5 more threads\n",
      "2020-12-04 15:04:57,599 : INFO : worker thread finished; awaiting finish of 4 more threads\n",
      "2020-12-04 15:04:57,613 : INFO : worker thread finished; awaiting finish of 3 more threads\n",
      "2020-12-04 15:04:57,614 : INFO : worker thread finished; awaiting finish of 2 more threads\n",
      "2020-12-04 15:04:57,629 : INFO : worker thread finished; awaiting finish of 1 more threads\n",
      "2020-12-04 15:04:57,635 : INFO : worker thread finished; awaiting finish of 0 more threads\n",
      "2020-12-04 15:04:57,636 : INFO : EPOCH - 14 : training on 9227204 raw words (8221574 effective words) took 9.4s, 871068 effective words/s\n",
      "2020-12-04 15:04:58,655 : INFO : EPOCH 15 - PROGRESS: at 10.53% examples, 859272 words/s, in_qsize 15, out_qsize 0\n",
      "2020-12-04 15:04:59,663 : INFO : EPOCH 15 - PROGRESS: at 21.14% examples, 862587 words/s, in_qsize 15, out_qsize 0\n",
      "2020-12-04 15:05:00,666 : INFO : EPOCH 15 - PROGRESS: at 31.86% examples, 868017 words/s, in_qsize 16, out_qsize 0\n",
      "2020-12-04 15:05:01,669 : INFO : EPOCH 15 - PROGRESS: at 42.46% examples, 868614 words/s, in_qsize 16, out_qsize 0\n",
      "2020-12-04 15:05:02,676 : INFO : EPOCH 15 - PROGRESS: at 52.18% examples, 854205 words/s, in_qsize 16, out_qsize 0\n",
      "2020-12-04 15:05:03,681 : INFO : EPOCH 15 - PROGRESS: at 61.71% examples, 841881 words/s, in_qsize 15, out_qsize 0\n",
      "2020-12-04 15:05:04,703 : INFO : EPOCH 15 - PROGRESS: at 72.10% examples, 841102 words/s, in_qsize 16, out_qsize 0\n",
      "2020-12-04 15:05:05,712 : INFO : EPOCH 15 - PROGRESS: at 83.18% examples, 848509 words/s, in_qsize 15, out_qsize 0\n",
      "2020-12-04 15:05:06,731 : INFO : EPOCH 15 - PROGRESS: at 94.14% examples, 852211 words/s, in_qsize 15, out_qsize 0\n",
      "2020-12-04 15:05:07,208 : INFO : worker thread finished; awaiting finish of 7 more threads\n",
      "2020-12-04 15:05:07,212 : INFO : worker thread finished; awaiting finish of 6 more threads\n",
      "2020-12-04 15:05:07,219 : INFO : worker thread finished; awaiting finish of 5 more threads\n",
      "2020-12-04 15:05:07,230 : INFO : worker thread finished; awaiting finish of 4 more threads\n",
      "2020-12-04 15:05:07,238 : INFO : worker thread finished; awaiting finish of 3 more threads\n",
      "2020-12-04 15:05:07,254 : INFO : worker thread finished; awaiting finish of 2 more threads\n",
      "2020-12-04 15:05:07,270 : INFO : worker thread finished; awaiting finish of 1 more threads\n",
      "2020-12-04 15:05:07,272 : INFO : worker thread finished; awaiting finish of 0 more threads\n",
      "2020-12-04 15:05:07,273 : INFO : EPOCH - 15 : training on 9227204 raw words (8222239 effective words) took 9.6s, 854368 effective words/s\n",
      "2020-12-04 15:05:08,296 : INFO : EPOCH 16 - PROGRESS: at 10.31% examples, 839393 words/s, in_qsize 15, out_qsize 0\n",
      "2020-12-04 15:05:09,310 : INFO : EPOCH 16 - PROGRESS: at 21.14% examples, 858537 words/s, in_qsize 15, out_qsize 0\n",
      "2020-12-04 15:05:10,325 : INFO : EPOCH 16 - PROGRESS: at 31.53% examples, 853240 words/s, in_qsize 14, out_qsize 1\n",
      "2020-12-04 15:05:11,331 : INFO : EPOCH 16 - PROGRESS: at 42.67% examples, 867840 words/s, in_qsize 15, out_qsize 0\n",
      "2020-12-04 15:05:12,353 : INFO : EPOCH 16 - PROGRESS: at 53.06% examples, 861635 words/s, in_qsize 15, out_qsize 1\n",
      "2020-12-04 15:05:13,363 : INFO : EPOCH 16 - PROGRESS: at 63.76% examples, 863552 words/s, in_qsize 16, out_qsize 0\n",
      "2020-12-04 15:05:14,367 : INFO : EPOCH 16 - PROGRESS: at 74.16% examples, 861864 words/s, in_qsize 15, out_qsize 0\n",
      "2020-12-04 15:05:15,370 : INFO : EPOCH 16 - PROGRESS: at 85.13% examples, 866243 words/s, in_qsize 15, out_qsize 0\n",
      "2020-12-04 15:05:16,388 : INFO : EPOCH 16 - PROGRESS: at 96.10% examples, 868153 words/s, in_qsize 14, out_qsize 1\n",
      "2020-12-04 15:05:16,684 : INFO : worker thread finished; awaiting finish of 7 more threads\n",
      "2020-12-04 15:05:16,699 : INFO : worker thread finished; awaiting finish of 6 more threads\n",
      "2020-12-04 15:05:16,704 : INFO : worker thread finished; awaiting finish of 5 more threads\n",
      "2020-12-04 15:05:16,710 : INFO : worker thread finished; awaiting finish of 4 more threads\n",
      "2020-12-04 15:05:16,722 : INFO : worker thread finished; awaiting finish of 3 more threads\n",
      "2020-12-04 15:05:16,738 : INFO : worker thread finished; awaiting finish of 2 more threads\n",
      "2020-12-04 15:05:16,745 : INFO : worker thread finished; awaiting finish of 1 more threads\n",
      "2020-12-04 15:05:16,752 : INFO : worker thread finished; awaiting finish of 0 more threads\n",
      "2020-12-04 15:05:16,752 : INFO : EPOCH - 16 : training on 9227204 raw words (8222942 effective words) took 9.5s, 868786 effective words/s\n",
      "2020-12-04 15:05:17,807 : INFO : EPOCH 17 - PROGRESS: at 10.32% examples, 821058 words/s, in_qsize 15, out_qsize 1\n",
      "2020-12-04 15:05:18,809 : INFO : EPOCH 17 - PROGRESS: at 21.35% examples, 863468 words/s, in_qsize 15, out_qsize 0\n",
      "2020-12-04 15:05:19,813 : INFO : EPOCH 17 - PROGRESS: at 31.86% examples, 862706 words/s, in_qsize 15, out_qsize 0\n",
      "2020-12-04 15:05:20,815 : INFO : EPOCH 17 - PROGRESS: at 42.57% examples, 866797 words/s, in_qsize 15, out_qsize 0\n",
      "2020-12-04 15:05:21,817 : INFO : EPOCH 17 - PROGRESS: at 52.95% examples, 864211 words/s, in_qsize 15, out_qsize 0\n",
      "2020-12-04 15:05:22,913 : INFO : EPOCH 17 - PROGRESS: at 61.61% examples, 826176 words/s, in_qsize 12, out_qsize 7\n",
      "2020-12-04 15:05:23,925 : INFO : EPOCH 17 - PROGRESS: at 65.06% examples, 749023 words/s, in_qsize 15, out_qsize 0\n",
      "2020-12-04 15:05:24,930 : INFO : EPOCH 17 - PROGRESS: at 69.72% examples, 703734 words/s, in_qsize 14, out_qsize 1\n",
      "2020-12-04 15:05:25,930 : INFO : EPOCH 17 - PROGRESS: at 79.05% examples, 710436 words/s, in_qsize 15, out_qsize 1\n",
      "2020-12-04 15:05:26,946 : INFO : EPOCH 17 - PROGRESS: at 88.48% examples, 715701 words/s, in_qsize 16, out_qsize 0\n",
      "2020-12-04 15:05:27,970 : INFO : EPOCH 17 - PROGRESS: at 97.72% examples, 717807 words/s, in_qsize 16, out_qsize 0\n",
      "2020-12-04 15:05:28,126 : INFO : worker thread finished; awaiting finish of 7 more threads\n",
      "2020-12-04 15:05:28,135 : INFO : worker thread finished; awaiting finish of 6 more threads\n",
      "2020-12-04 15:05:28,136 : INFO : worker thread finished; awaiting finish of 5 more threads\n"
     ]
    },
    {
     "name": "stderr",
     "output_type": "stream",
     "text": [
      "2020-12-04 15:05:28,146 : INFO : worker thread finished; awaiting finish of 4 more threads\n",
      "2020-12-04 15:05:28,149 : INFO : worker thread finished; awaiting finish of 3 more threads\n",
      "2020-12-04 15:05:28,153 : INFO : worker thread finished; awaiting finish of 2 more threads\n",
      "2020-12-04 15:05:28,161 : INFO : worker thread finished; awaiting finish of 1 more threads\n",
      "2020-12-04 15:05:28,164 : INFO : worker thread finished; awaiting finish of 0 more threads\n",
      "2020-12-04 15:05:28,164 : INFO : EPOCH - 17 : training on 9227204 raw words (8223109 effective words) took 11.4s, 722078 effective words/s\n",
      "2020-12-04 15:05:29,223 : INFO : EPOCH 18 - PROGRESS: at 5.21% examples, 408622 words/s, in_qsize 15, out_qsize 0\n",
      "2020-12-04 15:05:30,242 : INFO : EPOCH 18 - PROGRESS: at 10.42% examples, 414460 words/s, in_qsize 16, out_qsize 0\n",
      "2020-12-04 15:05:31,268 : INFO : EPOCH 18 - PROGRESS: at 18.65% examples, 495712 words/s, in_qsize 16, out_qsize 0\n",
      "2020-12-04 15:05:32,275 : INFO : EPOCH 18 - PROGRESS: at 26.23% examples, 526136 words/s, in_qsize 15, out_qsize 1\n",
      "2020-12-04 15:05:33,288 : INFO : EPOCH 18 - PROGRESS: at 35.00% examples, 563097 words/s, in_qsize 16, out_qsize 1\n",
      "2020-12-04 15:05:34,299 : INFO : EPOCH 18 - PROGRESS: at 43.86% examples, 589444 words/s, in_qsize 14, out_qsize 1\n",
      "2020-12-04 15:05:35,326 : INFO : EPOCH 18 - PROGRESS: at 50.88% examples, 585739 words/s, in_qsize 14, out_qsize 1\n",
      "2020-12-04 15:05:36,339 : INFO : EPOCH 18 - PROGRESS: at 59.76% examples, 602573 words/s, in_qsize 16, out_qsize 0\n",
      "2020-12-04 15:05:37,343 : INFO : EPOCH 18 - PROGRESS: at 68.42% examples, 614355 words/s, in_qsize 15, out_qsize 0\n",
      "2020-12-04 15:05:38,384 : INFO : EPOCH 18 - PROGRESS: at 76.55% examples, 617061 words/s, in_qsize 14, out_qsize 1\n",
      "2020-12-04 15:05:39,385 : INFO : EPOCH 18 - PROGRESS: at 83.72% examples, 614399 words/s, in_qsize 16, out_qsize 0\n",
      "2020-12-04 15:05:40,403 : INFO : EPOCH 18 - PROGRESS: at 90.65% examples, 609859 words/s, in_qsize 16, out_qsize 0\n",
      "2020-12-04 15:05:41,424 : INFO : EPOCH 18 - PROGRESS: at 96.21% examples, 597121 words/s, in_qsize 11, out_qsize 4\n",
      "2020-12-04 15:05:41,879 : INFO : worker thread finished; awaiting finish of 7 more threads\n",
      "2020-12-04 15:05:41,896 : INFO : worker thread finished; awaiting finish of 6 more threads\n",
      "2020-12-04 15:05:41,914 : INFO : worker thread finished; awaiting finish of 5 more threads\n",
      "2020-12-04 15:05:41,924 : INFO : worker thread finished; awaiting finish of 4 more threads\n",
      "2020-12-04 15:05:41,928 : INFO : worker thread finished; awaiting finish of 3 more threads\n",
      "2020-12-04 15:05:41,936 : INFO : worker thread finished; awaiting finish of 2 more threads\n",
      "2020-12-04 15:05:41,942 : INFO : worker thread finished; awaiting finish of 1 more threads\n",
      "2020-12-04 15:05:41,947 : INFO : worker thread finished; awaiting finish of 0 more threads\n",
      "2020-12-04 15:05:41,947 : INFO : EPOCH - 18 : training on 9227204 raw words (8222652 effective words) took 13.8s, 597144 effective words/s\n",
      "2020-12-04 15:05:42,976 : INFO : EPOCH 19 - PROGRESS: at 6.84% examples, 552456 words/s, in_qsize 15, out_qsize 0\n",
      "2020-12-04 15:05:43,977 : INFO : EPOCH 19 - PROGRESS: at 16.92% examples, 688931 words/s, in_qsize 14, out_qsize 1\n",
      "2020-12-04 15:05:44,979 : INFO : EPOCH 19 - PROGRESS: at 26.02% examples, 708412 words/s, in_qsize 15, out_qsize 0\n",
      "2020-12-04 15:05:46,015 : INFO : EPOCH 19 - PROGRESS: at 35.00% examples, 709716 words/s, in_qsize 16, out_qsize 1\n",
      "2020-12-04 15:05:47,027 : INFO : EPOCH 19 - PROGRESS: at 42.02% examples, 682216 words/s, in_qsize 16, out_qsize 0\n",
      "2020-12-04 15:05:48,077 : INFO : EPOCH 19 - PROGRESS: at 50.46% examples, 678721 words/s, in_qsize 15, out_qsize 1\n",
      "2020-12-04 15:05:49,089 : INFO : EPOCH 19 - PROGRESS: at 58.36% examples, 673708 words/s, in_qsize 14, out_qsize 1\n",
      "2020-12-04 15:05:50,130 : INFO : EPOCH 19 - PROGRESS: at 67.66% examples, 681592 words/s, in_qsize 12, out_qsize 3\n",
      "2020-12-04 15:05:51,188 : INFO : EPOCH 19 - PROGRESS: at 74.48% examples, 664250 words/s, in_qsize 10, out_qsize 5\n",
      "2020-12-04 15:05:52,211 : INFO : EPOCH 19 - PROGRESS: at 83.72% examples, 671819 words/s, in_qsize 15, out_qsize 0\n",
      "2020-12-04 15:05:53,249 : INFO : EPOCH 19 - PROGRESS: at 92.94% examples, 677071 words/s, in_qsize 15, out_qsize 0\n",
      "2020-12-04 15:05:54,305 : INFO : EPOCH 19 - PROGRESS: at 96.85% examples, 645142 words/s, in_qsize 16, out_qsize 1\n",
      "2020-12-04 15:05:54,949 : INFO : worker thread finished; awaiting finish of 7 more threads\n",
      "2020-12-04 15:05:54,976 : INFO : worker thread finished; awaiting finish of 6 more threads\n",
      "2020-12-04 15:05:55,019 : INFO : worker thread finished; awaiting finish of 5 more threads\n",
      "2020-12-04 15:05:55,096 : INFO : worker thread finished; awaiting finish of 4 more threads\n",
      "2020-12-04 15:05:55,117 : INFO : worker thread finished; awaiting finish of 3 more threads\n",
      "2020-12-04 15:05:55,122 : INFO : worker thread finished; awaiting finish of 2 more threads\n",
      "2020-12-04 15:05:55,220 : INFO : worker thread finished; awaiting finish of 1 more threads\n",
      "2020-12-04 15:05:55,343 : INFO : EPOCH 19 - PROGRESS: at 100.00% examples, 614483 words/s, in_qsize 0, out_qsize 1\n",
      "2020-12-04 15:05:55,344 : INFO : worker thread finished; awaiting finish of 0 more threads\n",
      "2020-12-04 15:05:55,345 : INFO : EPOCH - 19 : training on 9227204 raw words (8223094 effective words) took 13.4s, 614397 effective words/s\n",
      "2020-12-04 15:05:56,376 : INFO : EPOCH 20 - PROGRESS: at 3.58% examples, 289680 words/s, in_qsize 15, out_qsize 0\n",
      "2020-12-04 15:05:57,397 : INFO : EPOCH 20 - PROGRESS: at 7.39% examples, 297525 words/s, in_qsize 14, out_qsize 1\n",
      "2020-12-04 15:05:58,429 : INFO : EPOCH 20 - PROGRESS: at 11.19% examples, 299145 words/s, in_qsize 14, out_qsize 1\n",
      "2020-12-04 15:05:59,441 : INFO : EPOCH 20 - PROGRESS: at 15.73% examples, 316610 words/s, in_qsize 16, out_qsize 0\n",
      "2020-12-04 15:06:00,445 : INFO : EPOCH 20 - PROGRESS: at 22.11% examples, 357463 words/s, in_qsize 15, out_qsize 0\n",
      "2020-12-04 15:06:01,471 : INFO : EPOCH 20 - PROGRESS: at 29.59% examples, 398071 words/s, in_qsize 14, out_qsize 1\n",
      "2020-12-04 15:06:02,489 : INFO : EPOCH 20 - PROGRESS: at 34.46% examples, 397457 words/s, in_qsize 15, out_qsize 1\n",
      "2020-12-04 15:06:03,499 : INFO : EPOCH 20 - PROGRESS: at 42.35% examples, 428041 words/s, in_qsize 15, out_qsize 0\n",
      "2020-12-04 15:06:04,505 : INFO : EPOCH 20 - PROGRESS: at 49.49% examples, 445286 words/s, in_qsize 15, out_qsize 0\n",
      "2020-12-04 15:06:05,524 : INFO : EPOCH 20 - PROGRESS: at 56.29% examples, 455866 words/s, in_qsize 12, out_qsize 3\n",
      "2020-12-04 15:06:06,542 : INFO : EPOCH 20 - PROGRESS: at 64.95% examples, 478088 words/s, in_qsize 16, out_qsize 1\n",
      "2020-12-04 15:06:07,565 : INFO : EPOCH 20 - PROGRESS: at 73.73% examples, 497106 words/s, in_qsize 15, out_qsize 0\n",
      "2020-12-04 15:06:08,567 : INFO : EPOCH 20 - PROGRESS: at 84.37% examples, 525528 words/s, in_qsize 15, out_qsize 0\n",
      "2020-12-04 15:06:09,567 : INFO : EPOCH 20 - PROGRESS: at 95.01% examples, 549934 words/s, in_qsize 16, out_qsize 1\n",
      "2020-12-04 15:06:09,975 : INFO : worker thread finished; awaiting finish of 7 more threads\n",
      "2020-12-04 15:06:09,983 : INFO : worker thread finished; awaiting finish of 6 more threads\n",
      "2020-12-04 15:06:09,986 : INFO : worker thread finished; awaiting finish of 5 more threads\n",
      "2020-12-04 15:06:09,992 : INFO : worker thread finished; awaiting finish of 4 more threads\n",
      "2020-12-04 15:06:09,998 : INFO : worker thread finished; awaiting finish of 3 more threads\n",
      "2020-12-04 15:06:10,010 : INFO : worker thread finished; awaiting finish of 2 more threads\n",
      "2020-12-04 15:06:10,014 : INFO : worker thread finished; awaiting finish of 1 more threads\n",
      "2020-12-04 15:06:10,025 : INFO : worker thread finished; awaiting finish of 0 more threads\n",
      "2020-12-04 15:06:10,026 : INFO : EPOCH - 20 : training on 9227204 raw words (8223674 effective words) took 14.7s, 560766 effective words/s\n",
      "2020-12-04 15:06:11,039 : INFO : EPOCH 21 - PROGRESS: at 9.01% examples, 738710 words/s, in_qsize 14, out_qsize 1\n",
      "2020-12-04 15:06:12,070 : INFO : EPOCH 21 - PROGRESS: at 19.30% examples, 780171 words/s, in_qsize 16, out_qsize 0\n",
      "2020-12-04 15:06:13,083 : INFO : EPOCH 21 - PROGRESS: at 29.27% examples, 789955 words/s, in_qsize 14, out_qsize 1\n",
      "2020-12-04 15:06:14,085 : INFO : EPOCH 21 - PROGRESS: at 39.00% examples, 792488 words/s, in_qsize 16, out_qsize 0\n"
     ]
    },
    {
     "name": "stderr",
     "output_type": "stream",
     "text": [
      "2020-12-04 15:06:15,086 : INFO : EPOCH 21 - PROGRESS: at 48.19% examples, 785327 words/s, in_qsize 16, out_qsize 0\n",
      "2020-12-04 15:06:16,093 : INFO : EPOCH 21 - PROGRESS: at 56.84% examples, 772509 words/s, in_qsize 16, out_qsize 0\n",
      "2020-12-04 15:06:17,134 : INFO : EPOCH 21 - PROGRESS: at 66.04% examples, 765895 words/s, in_qsize 15, out_qsize 0\n",
      "2020-12-04 15:06:18,163 : INFO : EPOCH 21 - PROGRESS: at 76.44% examples, 774089 words/s, in_qsize 16, out_qsize 1\n",
      "2020-12-04 15:06:19,171 : INFO : EPOCH 21 - PROGRESS: at 86.21% examples, 776354 words/s, in_qsize 16, out_qsize 0\n",
      "2020-12-04 15:06:20,192 : INFO : EPOCH 21 - PROGRESS: at 95.99% examples, 777208 words/s, in_qsize 14, out_qsize 2\n",
      "2020-12-04 15:06:20,492 : INFO : worker thread finished; awaiting finish of 7 more threads\n",
      "2020-12-04 15:06:20,493 : INFO : worker thread finished; awaiting finish of 6 more threads\n",
      "2020-12-04 15:06:20,502 : INFO : worker thread finished; awaiting finish of 5 more threads\n",
      "2020-12-04 15:06:20,509 : INFO : worker thread finished; awaiting finish of 4 more threads\n",
      "2020-12-04 15:06:20,519 : INFO : worker thread finished; awaiting finish of 3 more threads\n",
      "2020-12-04 15:06:20,522 : INFO : worker thread finished; awaiting finish of 2 more threads\n",
      "2020-12-04 15:06:20,528 : INFO : worker thread finished; awaiting finish of 1 more threads\n",
      "2020-12-04 15:06:20,531 : INFO : worker thread finished; awaiting finish of 0 more threads\n",
      "2020-12-04 15:06:20,532 : INFO : EPOCH - 21 : training on 9227204 raw words (8222495 effective words) took 10.5s, 783547 effective words/s\n",
      "2020-12-04 15:06:21,565 : INFO : EPOCH 22 - PROGRESS: at 10.20% examples, 819476 words/s, in_qsize 16, out_qsize 0\n",
      "2020-12-04 15:06:22,573 : INFO : EPOCH 22 - PROGRESS: at 20.27% examples, 820702 words/s, in_qsize 15, out_qsize 0\n",
      "2020-12-04 15:06:23,575 : INFO : EPOCH 22 - PROGRESS: at 29.81% examples, 808091 words/s, in_qsize 15, out_qsize 1\n",
      "2020-12-04 15:06:24,580 : INFO : EPOCH 22 - PROGRESS: at 39.54% examples, 805475 words/s, in_qsize 14, out_qsize 1\n",
      "2020-12-04 15:06:25,605 : INFO : EPOCH 22 - PROGRESS: at 48.41% examples, 786758 words/s, in_qsize 16, out_qsize 0\n",
      "2020-12-04 15:06:26,607 : INFO : EPOCH 22 - PROGRESS: at 58.69% examples, 796410 words/s, in_qsize 16, out_qsize 1\n",
      "2020-12-04 15:06:27,614 : INFO : EPOCH 22 - PROGRESS: at 68.86% examples, 801336 words/s, in_qsize 15, out_qsize 0\n",
      "2020-12-04 15:06:28,667 : INFO : EPOCH 22 - PROGRESS: at 78.40% examples, 793872 words/s, in_qsize 12, out_qsize 4\n",
      "2020-12-04 15:06:29,701 : INFO : EPOCH 22 - PROGRESS: at 88.26% examples, 792833 words/s, in_qsize 16, out_qsize 0\n",
      "2020-12-04 15:06:30,704 : INFO : EPOCH 22 - PROGRESS: at 94.24% examples, 762704 words/s, in_qsize 16, out_qsize 0\n",
      "2020-12-04 15:06:31,727 : INFO : EPOCH 22 - PROGRESS: at 99.22% examples, 729535 words/s, in_qsize 8, out_qsize 0\n",
      "2020-12-04 15:06:31,734 : INFO : worker thread finished; awaiting finish of 7 more threads\n",
      "2020-12-04 15:06:31,739 : INFO : worker thread finished; awaiting finish of 6 more threads\n",
      "2020-12-04 15:06:31,742 : INFO : worker thread finished; awaiting finish of 5 more threads\n",
      "2020-12-04 15:06:31,752 : INFO : worker thread finished; awaiting finish of 4 more threads\n",
      "2020-12-04 15:06:31,760 : INFO : worker thread finished; awaiting finish of 3 more threads\n",
      "2020-12-04 15:06:31,765 : INFO : worker thread finished; awaiting finish of 2 more threads\n",
      "2020-12-04 15:06:31,766 : INFO : worker thread finished; awaiting finish of 1 more threads\n",
      "2020-12-04 15:06:31,782 : INFO : worker thread finished; awaiting finish of 0 more threads\n",
      "2020-12-04 15:06:31,783 : INFO : EPOCH - 22 : training on 9227204 raw words (8222232 effective words) took 11.2s, 731551 effective words/s\n",
      "2020-12-04 15:06:32,807 : INFO : EPOCH 23 - PROGRESS: at 7.28% examples, 590158 words/s, in_qsize 13, out_qsize 2\n",
      "2020-12-04 15:06:33,826 : INFO : EPOCH 23 - PROGRESS: at 15.52% examples, 627360 words/s, in_qsize 14, out_qsize 1\n",
      "2020-12-04 15:06:34,828 : INFO : EPOCH 23 - PROGRESS: at 24.18% examples, 655174 words/s, in_qsize 15, out_qsize 0\n",
      "2020-12-04 15:06:35,830 : INFO : EPOCH 23 - PROGRESS: at 33.27% examples, 677939 words/s, in_qsize 16, out_qsize 0\n",
      "2020-12-04 15:06:36,888 : INFO : EPOCH 23 - PROGRESS: at 41.70% examples, 673522 words/s, in_qsize 12, out_qsize 3\n",
      "2020-12-04 15:06:37,889 : INFO : EPOCH 23 - PROGRESS: at 48.95% examples, 660797 words/s, in_qsize 15, out_qsize 0\n",
      "2020-12-04 15:06:38,900 : INFO : EPOCH 23 - PROGRESS: at 55.32% examples, 640820 words/s, in_qsize 15, out_qsize 0\n",
      "2020-12-04 15:06:39,910 : INFO : EPOCH 23 - PROGRESS: at 65.39% examples, 663105 words/s, in_qsize 16, out_qsize 0\n",
      "2020-12-04 15:06:40,922 : INFO : EPOCH 23 - PROGRESS: at 73.19% examples, 659835 words/s, in_qsize 16, out_qsize 0\n",
      "2020-12-04 15:06:41,924 : INFO : EPOCH 23 - PROGRESS: at 81.66% examples, 663169 words/s, in_qsize 15, out_qsize 0\n",
      "2020-12-04 15:06:42,929 : INFO : EPOCH 23 - PROGRESS: at 90.11% examples, 665678 words/s, in_qsize 16, out_qsize 0\n",
      "2020-12-04 15:06:43,967 : INFO : EPOCH 23 - PROGRESS: at 96.31% examples, 650628 words/s, in_qsize 15, out_qsize 0\n",
      "2020-12-04 15:06:44,340 : INFO : worker thread finished; awaiting finish of 7 more threads\n",
      "2020-12-04 15:06:44,341 : INFO : worker thread finished; awaiting finish of 6 more threads\n",
      "2020-12-04 15:06:44,344 : INFO : worker thread finished; awaiting finish of 5 more threads\n",
      "2020-12-04 15:06:44,345 : INFO : worker thread finished; awaiting finish of 4 more threads\n",
      "2020-12-04 15:06:44,353 : INFO : worker thread finished; awaiting finish of 3 more threads\n",
      "2020-12-04 15:06:44,358 : INFO : worker thread finished; awaiting finish of 2 more threads\n",
      "2020-12-04 15:06:44,379 : INFO : worker thread finished; awaiting finish of 1 more threads\n",
      "2020-12-04 15:06:44,379 : INFO : worker thread finished; awaiting finish of 0 more threads\n",
      "2020-12-04 15:06:44,380 : INFO : EPOCH - 23 : training on 9227204 raw words (8222445 effective words) took 12.6s, 653396 effective words/s\n",
      "2020-12-04 15:06:45,495 : INFO : EPOCH 24 - PROGRESS: at 8.47% examples, 630944 words/s, in_qsize 13, out_qsize 2\n",
      "2020-12-04 15:06:46,574 : INFO : EPOCH 24 - PROGRESS: at 16.92% examples, 637175 words/s, in_qsize 12, out_qsize 3\n",
      "2020-12-04 15:06:47,580 : INFO : EPOCH 24 - PROGRESS: at 25.27% examples, 651385 words/s, in_qsize 13, out_qsize 2\n",
      "2020-12-04 15:06:48,590 : INFO : EPOCH 24 - PROGRESS: at 32.51% examples, 636673 words/s, in_qsize 14, out_qsize 1\n",
      "2020-12-04 15:06:49,596 : INFO : EPOCH 24 - PROGRESS: at 40.41% examples, 638626 words/s, in_qsize 15, out_qsize 0\n",
      "2020-12-04 15:06:50,598 : INFO : EPOCH 24 - PROGRESS: at 47.43% examples, 628818 words/s, in_qsize 15, out_qsize 0\n",
      "2020-12-04 15:06:51,603 : INFO : EPOCH 24 - PROGRESS: at 55.53% examples, 633918 words/s, in_qsize 16, out_qsize 0\n",
      "2020-12-04 15:06:52,630 : INFO : EPOCH 24 - PROGRESS: at 64.40% examples, 643582 words/s, in_qsize 15, out_qsize 0\n",
      "2020-12-04 15:06:53,638 : INFO : EPOCH 24 - PROGRESS: at 71.56% examples, 636976 words/s, in_qsize 15, out_qsize 0\n",
      "2020-12-04 15:06:54,639 : INFO : EPOCH 24 - PROGRESS: at 81.55% examples, 654735 words/s, in_qsize 15, out_qsize 0\n",
      "2020-12-04 15:06:55,658 : INFO : EPOCH 24 - PROGRESS: at 90.00% examples, 657164 words/s, in_qsize 16, out_qsize 0\n",
      "2020-12-04 15:06:56,660 : INFO : EPOCH 24 - PROGRESS: at 98.68% examples, 661535 words/s, in_qsize 11, out_qsize 2\n",
      "2020-12-04 15:06:56,724 : INFO : worker thread finished; awaiting finish of 7 more threads\n",
      "2020-12-04 15:06:56,730 : INFO : worker thread finished; awaiting finish of 6 more threads\n",
      "2020-12-04 15:06:56,743 : INFO : worker thread finished; awaiting finish of 5 more threads\n",
      "2020-12-04 15:06:56,755 : INFO : worker thread finished; awaiting finish of 4 more threads\n",
      "2020-12-04 15:06:56,760 : INFO : worker thread finished; awaiting finish of 3 more threads\n",
      "2020-12-04 15:06:56,764 : INFO : worker thread finished; awaiting finish of 2 more threads\n",
      "2020-12-04 15:06:56,792 : INFO : worker thread finished; awaiting finish of 1 more threads\n",
      "2020-12-04 15:06:56,802 : INFO : worker thread finished; awaiting finish of 0 more threads\n",
      "2020-12-04 15:06:56,803 : INFO : EPOCH - 24 : training on 9227204 raw words (8222786 effective words) took 12.4s, 662606 effective words/s\n",
      "2020-12-04 15:06:57,818 : INFO : EPOCH 25 - PROGRESS: at 9.45% examples, 772836 words/s, in_qsize 15, out_qsize 0\n"
     ]
    },
    {
     "name": "stderr",
     "output_type": "stream",
     "text": [
      "2020-12-04 15:06:58,830 : INFO : EPOCH 25 - PROGRESS: at 20.48% examples, 835554 words/s, in_qsize 14, out_qsize 1\n",
      "2020-12-04 15:06:59,851 : INFO : EPOCH 25 - PROGRESS: at 31.21% examples, 845169 words/s, in_qsize 15, out_qsize 1\n",
      "2020-12-04 15:07:00,868 : INFO : EPOCH 25 - PROGRESS: at 41.80% examples, 848511 words/s, in_qsize 16, out_qsize 0\n",
      "2020-12-04 15:07:01,901 : INFO : EPOCH 25 - PROGRESS: at 52.51% examples, 849499 words/s, in_qsize 15, out_qsize 0\n",
      "2020-12-04 15:07:02,909 : INFO : EPOCH 25 - PROGRESS: at 63.54% examples, 858091 words/s, in_qsize 16, out_qsize 0\n",
      "2020-12-04 15:07:03,926 : INFO : EPOCH 25 - PROGRESS: at 74.37% examples, 860602 words/s, in_qsize 14, out_qsize 2\n",
      "2020-12-04 15:07:04,934 : INFO : EPOCH 25 - PROGRESS: at 84.15% examples, 852586 words/s, in_qsize 15, out_qsize 0\n",
      "2020-12-04 15:07:05,942 : INFO : EPOCH 25 - PROGRESS: at 94.91% examples, 854944 words/s, in_qsize 15, out_qsize 0\n",
      "2020-12-04 15:07:06,360 : INFO : worker thread finished; awaiting finish of 7 more threads\n",
      "2020-12-04 15:07:06,370 : INFO : worker thread finished; awaiting finish of 6 more threads\n",
      "2020-12-04 15:07:06,377 : INFO : worker thread finished; awaiting finish of 5 more threads\n",
      "2020-12-04 15:07:06,384 : INFO : worker thread finished; awaiting finish of 4 more threads\n",
      "2020-12-04 15:07:06,417 : INFO : worker thread finished; awaiting finish of 3 more threads\n",
      "2020-12-04 15:07:06,418 : INFO : worker thread finished; awaiting finish of 2 more threads\n",
      "2020-12-04 15:07:06,419 : INFO : worker thread finished; awaiting finish of 1 more threads\n",
      "2020-12-04 15:07:06,431 : INFO : worker thread finished; awaiting finish of 0 more threads\n",
      "2020-12-04 15:07:06,432 : INFO : EPOCH - 25 : training on 9227204 raw words (8222302 effective words) took 9.6s, 855010 effective words/s\n",
      "2020-12-04 15:07:07,459 : INFO : EPOCH 26 - PROGRESS: at 7.17% examples, 579471 words/s, in_qsize 15, out_qsize 0\n",
      "2020-12-04 15:07:08,474 : INFO : EPOCH 26 - PROGRESS: at 15.41% examples, 623126 words/s, in_qsize 15, out_qsize 0\n",
      "2020-12-04 15:07:09,483 : INFO : EPOCH 26 - PROGRESS: at 25.69% examples, 694837 words/s, in_qsize 16, out_qsize 1\n",
      "2020-12-04 15:07:10,492 : INFO : EPOCH 26 - PROGRESS: at 34.57% examples, 701972 words/s, in_qsize 15, out_qsize 0\n",
      "2020-12-04 15:07:11,493 : INFO : EPOCH 26 - PROGRESS: at 45.05% examples, 733803 words/s, in_qsize 15, out_qsize 0\n",
      "2020-12-04 15:07:12,496 : INFO : EPOCH 26 - PROGRESS: at 55.64% examples, 756621 words/s, in_qsize 14, out_qsize 1\n",
      "2020-12-04 15:07:13,523 : INFO : EPOCH 26 - PROGRESS: at 66.37% examples, 771432 words/s, in_qsize 16, out_qsize 0\n",
      "2020-12-04 15:07:14,567 : INFO : EPOCH 26 - PROGRESS: at 76.88% examples, 778641 words/s, in_qsize 16, out_qsize 0\n",
      "2020-12-04 15:07:15,584 : INFO : EPOCH 26 - PROGRESS: at 86.53% examples, 778733 words/s, in_qsize 16, out_qsize 1\n",
      "2020-12-04 15:07:16,591 : INFO : EPOCH 26 - PROGRESS: at 96.32% examples, 780450 words/s, in_qsize 16, out_qsize 1\n",
      "2020-12-04 15:07:16,883 : INFO : worker thread finished; awaiting finish of 7 more threads\n",
      "2020-12-04 15:07:16,889 : INFO : worker thread finished; awaiting finish of 6 more threads\n",
      "2020-12-04 15:07:16,917 : INFO : worker thread finished; awaiting finish of 5 more threads\n",
      "2020-12-04 15:07:16,918 : INFO : worker thread finished; awaiting finish of 4 more threads\n",
      "2020-12-04 15:07:16,923 : INFO : worker thread finished; awaiting finish of 3 more threads\n",
      "2020-12-04 15:07:16,936 : INFO : worker thread finished; awaiting finish of 2 more threads\n",
      "2020-12-04 15:07:16,938 : INFO : worker thread finished; awaiting finish of 1 more threads\n",
      "2020-12-04 15:07:16,939 : INFO : worker thread finished; awaiting finish of 0 more threads\n",
      "2020-12-04 15:07:16,940 : INFO : EPOCH - 26 : training on 9227204 raw words (8222567 effective words) took 10.5s, 783423 effective words/s\n",
      "2020-12-04 15:07:17,953 : INFO : EPOCH 27 - PROGRESS: at 9.34% examples, 765330 words/s, in_qsize 15, out_qsize 1\n",
      "2020-12-04 15:07:18,980 : INFO : EPOCH 27 - PROGRESS: at 20.27% examples, 821113 words/s, in_qsize 15, out_qsize 0\n",
      "2020-12-04 15:07:19,983 : INFO : EPOCH 27 - PROGRESS: at 30.89% examples, 837593 words/s, in_qsize 16, out_qsize 0\n",
      "2020-12-04 15:07:21,003 : INFO : EPOCH 27 - PROGRESS: at 41.26% examples, 837708 words/s, in_qsize 16, out_qsize 0\n",
      "2020-12-04 15:07:22,020 : INFO : EPOCH 27 - PROGRESS: at 48.83% examples, 792674 words/s, in_qsize 15, out_qsize 0\n",
      "2020-12-04 15:07:23,023 : INFO : EPOCH 27 - PROGRESS: at 58.47% examples, 792378 words/s, in_qsize 16, out_qsize 0\n",
      "2020-12-04 15:07:24,041 : INFO : EPOCH 27 - PROGRESS: at 67.34% examples, 781519 words/s, in_qsize 13, out_qsize 2\n",
      "2020-12-04 15:07:25,082 : INFO : EPOCH 27 - PROGRESS: at 76.87% examples, 777857 words/s, in_qsize 16, out_qsize 1\n",
      "2020-12-04 15:07:26,095 : INFO : EPOCH 27 - PROGRESS: at 84.15% examples, 756948 words/s, in_qsize 16, out_qsize 0\n",
      "2020-12-04 15:07:27,102 : INFO : EPOCH 27 - PROGRESS: at 93.05% examples, 753714 words/s, in_qsize 16, out_qsize 0\n",
      "2020-12-04 15:07:27,771 : INFO : worker thread finished; awaiting finish of 7 more threads\n",
      "2020-12-04 15:07:27,772 : INFO : worker thread finished; awaiting finish of 6 more threads\n",
      "2020-12-04 15:07:27,773 : INFO : worker thread finished; awaiting finish of 5 more threads\n",
      "2020-12-04 15:07:27,792 : INFO : worker thread finished; awaiting finish of 4 more threads\n",
      "2020-12-04 15:07:27,825 : INFO : worker thread finished; awaiting finish of 3 more threads\n",
      "2020-12-04 15:07:27,835 : INFO : worker thread finished; awaiting finish of 2 more threads\n",
      "2020-12-04 15:07:27,842 : INFO : worker thread finished; awaiting finish of 1 more threads\n",
      "2020-12-04 15:07:27,846 : INFO : worker thread finished; awaiting finish of 0 more threads\n",
      "2020-12-04 15:07:27,848 : INFO : EPOCH - 27 : training on 9227204 raw words (8221661 effective words) took 10.9s, 754563 effective words/s\n",
      "2020-12-04 15:07:28,871 : INFO : EPOCH 28 - PROGRESS: at 8.91% examples, 726818 words/s, in_qsize 14, out_qsize 1\n",
      "2020-12-04 15:07:29,885 : INFO : EPOCH 28 - PROGRESS: at 17.89% examples, 727880 words/s, in_qsize 15, out_qsize 0\n",
      "2020-12-04 15:07:30,902 : INFO : EPOCH 28 - PROGRESS: at 26.99% examples, 730706 words/s, in_qsize 16, out_qsize 0\n",
      "2020-12-04 15:07:31,906 : INFO : EPOCH 28 - PROGRESS: at 37.70% examples, 767437 words/s, in_qsize 14, out_qsize 1\n",
      "2020-12-04 15:07:32,906 : INFO : EPOCH 28 - PROGRESS: at 48.08% examples, 784887 words/s, in_qsize 15, out_qsize 0\n",
      "2020-12-04 15:07:33,907 : INFO : EPOCH 28 - PROGRESS: at 58.47% examples, 796541 words/s, in_qsize 14, out_qsize 1\n",
      "2020-12-04 15:07:34,919 : INFO : EPOCH 28 - PROGRESS: at 69.08% examples, 806047 words/s, in_qsize 16, out_qsize 0\n",
      "2020-12-04 15:07:35,937 : INFO : EPOCH 28 - PROGRESS: at 79.70% examples, 812449 words/s, in_qsize 16, out_qsize 0\n",
      "2020-12-04 15:07:36,943 : INFO : EPOCH 28 - PROGRESS: at 90.00% examples, 815657 words/s, in_qsize 15, out_qsize 0\n",
      "2020-12-04 15:07:37,812 : INFO : worker thread finished; awaiting finish of 7 more threads\n",
      "2020-12-04 15:07:37,813 : INFO : worker thread finished; awaiting finish of 6 more threads\n",
      "2020-12-04 15:07:37,814 : INFO : worker thread finished; awaiting finish of 5 more threads\n",
      "2020-12-04 15:07:37,833 : INFO : worker thread finished; awaiting finish of 4 more threads\n",
      "2020-12-04 15:07:37,835 : INFO : worker thread finished; awaiting finish of 3 more threads\n",
      "2020-12-04 15:07:37,844 : INFO : worker thread finished; awaiting finish of 2 more threads\n",
      "2020-12-04 15:07:37,849 : INFO : worker thread finished; awaiting finish of 1 more threads\n",
      "2020-12-04 15:07:37,861 : INFO : worker thread finished; awaiting finish of 0 more threads\n",
      "2020-12-04 15:07:37,862 : INFO : EPOCH - 28 : training on 9227204 raw words (8222822 effective words) took 10.0s, 822697 effective words/s\n",
      "2020-12-04 15:07:38,895 : INFO : EPOCH 29 - PROGRESS: at 9.23% examples, 748067 words/s, in_qsize 14, out_qsize 1\n",
      "2020-12-04 15:07:39,897 : INFO : EPOCH 29 - PROGRESS: at 19.84% examples, 809065 words/s, in_qsize 15, out_qsize 0\n",
      "2020-12-04 15:07:40,901 : INFO : EPOCH 29 - PROGRESS: at 30.13% examples, 820474 words/s, in_qsize 16, out_qsize 0\n",
      "2020-12-04 15:07:41,906 : INFO : EPOCH 29 - PROGRESS: at 40.83% examples, 834704 words/s, in_qsize 15, out_qsize 0\n",
      "2020-12-04 15:07:42,906 : INFO : EPOCH 29 - PROGRESS: at 51.21% examples, 838806 words/s, in_qsize 16, out_qsize 1\n"
     ]
    },
    {
     "name": "stderr",
     "output_type": "stream",
     "text": [
      "2020-12-04 15:07:43,908 : INFO : EPOCH 29 - PROGRESS: at 61.61% examples, 841371 words/s, in_qsize 15, out_qsize 0\n",
      "2020-12-04 15:07:44,909 : INFO : EPOCH 29 - PROGRESS: at 72.43% examples, 848181 words/s, in_qsize 15, out_qsize 0\n",
      "2020-12-04 15:07:45,918 : INFO : EPOCH 29 - PROGRESS: at 83.07% examples, 850328 words/s, in_qsize 16, out_qsize 0\n",
      "2020-12-04 15:07:46,920 : INFO : EPOCH 29 - PROGRESS: at 93.81% examples, 853512 words/s, in_qsize 16, out_qsize 1\n",
      "2020-12-04 15:07:47,444 : INFO : worker thread finished; awaiting finish of 7 more threads\n",
      "2020-12-04 15:07:47,446 : INFO : worker thread finished; awaiting finish of 6 more threads\n",
      "2020-12-04 15:07:47,447 : INFO : worker thread finished; awaiting finish of 5 more threads\n",
      "2020-12-04 15:07:47,464 : INFO : worker thread finished; awaiting finish of 4 more threads\n",
      "2020-12-04 15:07:47,467 : INFO : worker thread finished; awaiting finish of 3 more threads\n",
      "2020-12-04 15:07:47,468 : INFO : worker thread finished; awaiting finish of 2 more threads\n",
      "2020-12-04 15:07:47,490 : INFO : worker thread finished; awaiting finish of 1 more threads\n",
      "2020-12-04 15:07:47,494 : INFO : worker thread finished; awaiting finish of 0 more threads\n",
      "2020-12-04 15:07:47,495 : INFO : EPOCH - 29 : training on 9227204 raw words (8222740 effective words) took 9.6s, 855369 effective words/s\n",
      "2020-12-04 15:07:48,521 : INFO : EPOCH 30 - PROGRESS: at 10.21% examples, 829463 words/s, in_qsize 15, out_qsize 0\n",
      "2020-12-04 15:07:49,530 : INFO : EPOCH 30 - PROGRESS: at 21.25% examples, 864822 words/s, in_qsize 16, out_qsize 0\n",
      "2020-12-04 15:07:50,533 : INFO : EPOCH 30 - PROGRESS: at 31.75% examples, 864031 words/s, in_qsize 14, out_qsize 1\n",
      "2020-12-04 15:07:51,534 : INFO : EPOCH 30 - PROGRESS: at 42.35% examples, 865989 words/s, in_qsize 16, out_qsize 0\n",
      "2020-12-04 15:07:52,556 : INFO : EPOCH 30 - PROGRESS: at 53.16% examples, 867114 words/s, in_qsize 16, out_qsize 0\n",
      "2020-12-04 15:07:53,598 : INFO : EPOCH 30 - PROGRESS: at 64.19% examples, 868063 words/s, in_qsize 16, out_qsize 0\n",
      "2020-12-04 15:07:54,600 : INFO : EPOCH 30 - PROGRESS: at 74.70% examples, 867247 words/s, in_qsize 16, out_qsize 0\n",
      "2020-12-04 15:07:55,624 : INFO : EPOCH 30 - PROGRESS: at 85.56% examples, 867551 words/s, in_qsize 16, out_qsize 0\n",
      "2020-12-04 15:07:56,624 : INFO : EPOCH 30 - PROGRESS: at 95.88% examples, 865039 words/s, in_qsize 15, out_qsize 0\n",
      "2020-12-04 15:07:56,923 : INFO : worker thread finished; awaiting finish of 7 more threads\n",
      "2020-12-04 15:07:56,925 : INFO : worker thread finished; awaiting finish of 6 more threads\n",
      "2020-12-04 15:07:56,930 : INFO : worker thread finished; awaiting finish of 5 more threads\n",
      "2020-12-04 15:07:56,941 : INFO : worker thread finished; awaiting finish of 4 more threads\n",
      "2020-12-04 15:07:56,948 : INFO : worker thread finished; awaiting finish of 3 more threads\n",
      "2020-12-04 15:07:56,955 : INFO : worker thread finished; awaiting finish of 2 more threads\n",
      "2020-12-04 15:07:56,963 : INFO : worker thread finished; awaiting finish of 1 more threads\n",
      "2020-12-04 15:07:56,969 : INFO : worker thread finished; awaiting finish of 0 more threads\n",
      "2020-12-04 15:07:56,969 : INFO : EPOCH - 30 : training on 9227204 raw words (8222301 effective words) took 9.5s, 869401 effective words/s\n",
      "2020-12-04 15:07:57,983 : INFO : EPOCH 31 - PROGRESS: at 10.31% examples, 845987 words/s, in_qsize 15, out_qsize 0\n",
      "2020-12-04 15:07:58,988 : INFO : EPOCH 31 - PROGRESS: at 20.92% examples, 857319 words/s, in_qsize 16, out_qsize 0\n",
      "2020-12-04 15:07:59,988 : INFO : EPOCH 31 - PROGRESS: at 31.64% examples, 865464 words/s, in_qsize 15, out_qsize 0\n",
      "2020-12-04 15:08:01,013 : INFO : EPOCH 31 - PROGRESS: at 42.24% examples, 862098 words/s, in_qsize 15, out_qsize 0\n",
      "2020-12-04 15:08:02,018 : INFO : EPOCH 31 - PROGRESS: at 53.05% examples, 866879 words/s, in_qsize 16, out_qsize 0\n",
      "2020-12-04 15:08:03,028 : INFO : EPOCH 31 - PROGRESS: at 62.90% examples, 856237 words/s, in_qsize 15, out_qsize 0\n",
      "2020-12-04 15:08:04,045 : INFO : EPOCH 31 - PROGRESS: at 73.84% examples, 860270 words/s, in_qsize 16, out_qsize 0\n",
      "2020-12-04 15:08:05,090 : INFO : EPOCH 31 - PROGRESS: at 84.26% examples, 854912 words/s, in_qsize 15, out_qsize 0\n",
      "2020-12-04 15:08:06,097 : INFO : EPOCH 31 - PROGRESS: at 95.01% examples, 857129 words/s, in_qsize 15, out_qsize 0\n",
      "2020-12-04 15:08:06,488 : INFO : worker thread finished; awaiting finish of 7 more threads\n",
      "2020-12-04 15:08:06,491 : INFO : worker thread finished; awaiting finish of 6 more threads\n",
      "2020-12-04 15:08:06,497 : INFO : worker thread finished; awaiting finish of 5 more threads\n",
      "2020-12-04 15:08:06,508 : INFO : worker thread finished; awaiting finish of 4 more threads\n",
      "2020-12-04 15:08:06,512 : INFO : worker thread finished; awaiting finish of 3 more threads\n",
      "2020-12-04 15:08:06,536 : INFO : worker thread finished; awaiting finish of 2 more threads\n",
      "2020-12-04 15:08:06,545 : INFO : worker thread finished; awaiting finish of 1 more threads\n",
      "2020-12-04 15:08:06,561 : INFO : worker thread finished; awaiting finish of 0 more threads\n",
      "2020-12-04 15:08:06,562 : INFO : EPOCH - 31 : training on 9227204 raw words (8222792 effective words) took 9.6s, 858466 effective words/s\n",
      "2020-12-04 15:08:07,575 : INFO : EPOCH 32 - PROGRESS: at 10.10% examples, 827288 words/s, in_qsize 16, out_qsize 0\n",
      "2020-12-04 15:08:08,603 : INFO : EPOCH 32 - PROGRESS: at 21.25% examples, 860207 words/s, in_qsize 15, out_qsize 0\n",
      "2020-12-04 15:08:09,604 : INFO : EPOCH 32 - PROGRESS: at 32.19% examples, 872957 words/s, in_qsize 15, out_qsize 0\n",
      "2020-12-04 15:08:10,608 : INFO : EPOCH 32 - PROGRESS: at 42.67% examples, 869865 words/s, in_qsize 15, out_qsize 1\n",
      "2020-12-04 15:08:11,620 : INFO : EPOCH 32 - PROGRESS: at 53.59% examples, 873774 words/s, in_qsize 15, out_qsize 0\n",
      "2020-12-04 15:08:12,626 : INFO : EPOCH 32 - PROGRESS: at 63.97% examples, 869878 words/s, in_qsize 14, out_qsize 1\n",
      "2020-12-04 15:08:13,650 : INFO : EPOCH 32 - PROGRESS: at 75.02% examples, 872387 words/s, in_qsize 15, out_qsize 0\n",
      "2020-12-04 15:08:14,658 : INFO : EPOCH 32 - PROGRESS: at 85.77% examples, 872681 words/s, in_qsize 16, out_qsize 0\n",
      "2020-12-04 15:08:15,674 : INFO : EPOCH 32 - PROGRESS: at 96.53% examples, 872092 words/s, in_qsize 14, out_qsize 1\n",
      "2020-12-04 15:08:15,935 : INFO : worker thread finished; awaiting finish of 7 more threads\n",
      "2020-12-04 15:08:15,945 : INFO : worker thread finished; awaiting finish of 6 more threads\n",
      "2020-12-04 15:08:15,946 : INFO : worker thread finished; awaiting finish of 5 more threads\n",
      "2020-12-04 15:08:15,947 : INFO : worker thread finished; awaiting finish of 4 more threads\n",
      "2020-12-04 15:08:15,947 : INFO : worker thread finished; awaiting finish of 3 more threads\n",
      "2020-12-04 15:08:15,979 : INFO : worker thread finished; awaiting finish of 2 more threads\n",
      "2020-12-04 15:08:15,981 : INFO : worker thread finished; awaiting finish of 1 more threads\n",
      "2020-12-04 15:08:15,987 : INFO : worker thread finished; awaiting finish of 0 more threads\n",
      "2020-12-04 15:08:15,988 : INFO : EPOCH - 32 : training on 9227204 raw words (8222520 effective words) took 9.4s, 873384 effective words/s\n",
      "2020-12-04 15:08:15,988 : INFO : training on a 295270528 raw words (263127379 effective words) took 340.2s, 773485 effective words/s\n"
     ]
    },
    {
     "name": "stdout",
     "output_type": "stream",
     "text": [
      "CPU times: user 17min 31s, sys: 7.28 s, total: 17min 38s\n",
      "Wall time: 5min 40s\n"
     ]
    },
    {
     "data": {
      "text/plain": [
       "(263127379, 295270528)"
      ]
     },
     "execution_count": 25,
     "metadata": {},
     "output_type": "execute_result"
    }
   ],
   "source": [
    "%%time\n",
    "w2v_model.train(documents, total_examples=len(documents), epochs=W2V_EPOCH)"
   ]
  },
  {
   "cell_type": "code",
   "execution_count": 26,
   "metadata": {},
   "outputs": [
    {
     "name": "stderr",
     "output_type": "stream",
     "text": [
      "/Users/dodo4.0/opt/anaconda3/lib/python3.7/site-packages/ipykernel_launcher.py:1: DeprecationWarning: Call to deprecated `most_similar` (Method will be removed in 4.0.0, use self.wv.most_similar() instead).\n",
      "  \"\"\"Entry point for launching an IPython kernel.\n",
      "2020-12-04 15:10:05,844 : INFO : precomputing L2-norms of word weight vectors\n"
     ]
    },
    {
     "data": {
      "text/plain": [
       "[('luv', 0.5688667297363281),\n",
       " ('loves', 0.5516188144683838),\n",
       " ('loved', 0.550737738609314),\n",
       " ('adore', 0.5176335573196411),\n",
       " ('amazing', 0.5148882269859314),\n",
       " ('looove', 0.4862058162689209),\n",
       " ('awesome', 0.4775022268295288),\n",
       " ('loveee', 0.46532952785491943),\n",
       " ('lovee', 0.4433733820915222),\n",
       " ('loooove', 0.4388321042060852)]"
      ]
     },
     "execution_count": 26,
     "metadata": {},
     "output_type": "execute_result"
    }
   ],
   "source": [
    "w2v_model.most_similar(\"love\")"
   ]
  },
  {
   "cell_type": "code",
   "execution_count": 27,
   "metadata": {},
   "outputs": [
    {
     "name": "stdout",
     "output_type": "stream",
     "text": [
      "Total words 290419\n",
      "CPU times: user 15.8 s, sys: 415 ms, total: 16.3 s\n",
      "Wall time: 16.6 s\n"
     ]
    }
   ],
   "source": [
    "%%time\n",
    "tokenizer = Tokenizer()\n",
    "tokenizer.fit_on_texts(df_train.text)\n",
    "\n",
    "vocab_size = len(tokenizer.word_index) + 1\n",
    "print(\"Total words\", vocab_size)"
   ]
  },
  {
   "cell_type": "code",
   "execution_count": 28,
   "metadata": {},
   "outputs": [
    {
     "name": "stdout",
     "output_type": "stream",
     "text": [
      "CPU times: user 23.2 s, sys: 3.28 s, total: 26.5 s\n",
      "Wall time: 29.1 s\n"
     ]
    }
   ],
   "source": [
    "%%time\n",
    "x_train = pad_sequences(tokenizer.texts_to_sequences(df_train.text), maxlen=SEQUENCE_LENGTH)\n",
    "x_test = pad_sequences(tokenizer.texts_to_sequences(df_test.text), maxlen=SEQUENCE_LENGTH)\n"
   ]
  },
  {
   "cell_type": "code",
   "execution_count": 29,
   "metadata": {},
   "outputs": [
    {
     "data": {
      "text/plain": [
       "['POSITIVE', 'NEGATIVE', 'NEUTRAL']"
      ]
     },
     "execution_count": 29,
     "metadata": {},
     "output_type": "execute_result"
    }
   ],
   "source": [
    "labels = df_train.target.unique().tolist()\n",
    "labels.append(NEUTRAL)\n",
    "labels"
   ]
  },
  {
   "cell_type": "code",
   "execution_count": 30,
   "metadata": {},
   "outputs": [
    {
     "name": "stdout",
     "output_type": "stream",
     "text": [
      "y_train (1280000, 1)\n",
      "y_test (320000, 1)\n"
     ]
    }
   ],
   "source": [
    "encoder = LabelEncoder()\n",
    "encoder.fit(df_train.target.tolist())\n",
    "\n",
    "y_train = encoder.transform(df_train.target.tolist())\n",
    "y_test = encoder.transform(df_test.target.tolist())\n",
    "\n",
    "y_train = y_train.reshape(-1,1)\n",
    "y_test = y_test.reshape(-1,1)\n",
    "\n",
    "print(\"y_train\",y_train.shape)\n",
    "print(\"y_test\",y_test.shape)"
   ]
  },
  {
   "cell_type": "code",
   "execution_count": 31,
   "metadata": {},
   "outputs": [
    {
     "name": "stdout",
     "output_type": "stream",
     "text": [
      "x_train (1280000, 300)\n",
      "y_train (1280000, 1)\n",
      "\n",
      "x_test (320000, 300)\n",
      "y_test (320000, 1)\n"
     ]
    }
   ],
   "source": [
    "print(\"x_train\", x_train.shape)\n",
    "print(\"y_train\", y_train.shape)\n",
    "print()\n",
    "print(\"x_test\", x_test.shape)\n",
    "print(\"y_test\", y_test.shape)"
   ]
  },
  {
   "cell_type": "code",
   "execution_count": 32,
   "metadata": {},
   "outputs": [
    {
     "data": {
      "text/plain": [
       "array([[1],\n",
       "       [1],\n",
       "       [1],\n",
       "       [0],\n",
       "       [1],\n",
       "       [1],\n",
       "       [1],\n",
       "       [1],\n",
       "       [1],\n",
       "       [1]])"
      ]
     },
     "execution_count": 32,
     "metadata": {},
     "output_type": "execute_result"
    }
   ],
   "source": [
    "y_train[:10]"
   ]
  },
  {
   "cell_type": "code",
   "execution_count": 33,
   "metadata": {},
   "outputs": [
    {
     "name": "stdout",
     "output_type": "stream",
     "text": [
      "(290419, 300)\n"
     ]
    }
   ],
   "source": [
    "embedding_matrix = np.zeros((vocab_size, W2V_SIZE))\n",
    "for word, i in tokenizer.word_index.items():\n",
    "  if word in w2v_model.wv:\n",
    "    embedding_matrix[i] = w2v_model.wv[word]\n",
    "print(embedding_matrix.shape)"
   ]
  },
  {
   "cell_type": "code",
   "execution_count": 34,
   "metadata": {},
   "outputs": [],
   "source": [
    "embedding_layer = Embedding(vocab_size, W2V_SIZE, weights=[embedding_matrix], input_length=SEQUENCE_LENGTH, trainable=False)"
   ]
  },
  {
   "cell_type": "code",
   "execution_count": 35,
   "metadata": {},
   "outputs": [
    {
     "name": "stdout",
     "output_type": "stream",
     "text": [
      "Model: \"sequential\"\n",
      "_________________________________________________________________\n",
      "Layer (type)                 Output Shape              Param #   \n",
      "=================================================================\n",
      "embedding (Embedding)        (None, 300, 300)          87125700  \n",
      "_________________________________________________________________\n",
      "dropout (Dropout)            (None, 300, 300)          0         \n",
      "_________________________________________________________________\n",
      "lstm (LSTM)                  (None, 100)               160400    \n",
      "_________________________________________________________________\n",
      "dense (Dense)                (None, 1)                 101       \n",
      "=================================================================\n",
      "Total params: 87,286,201\n",
      "Trainable params: 160,501\n",
      "Non-trainable params: 87,125,700\n",
      "_________________________________________________________________\n"
     ]
    }
   ],
   "source": [
    "model = Sequential()\n",
    "model.add(embedding_layer)\n",
    "model.add(Dropout(0.5))\n",
    "model.add(LSTM(100, dropout=0.2, recurrent_dropout=0.2))\n",
    "model.add(Dense(1, activation='sigmoid'))\n",
    "\n",
    "model.summary()"
   ]
  },
  {
   "cell_type": "code",
   "execution_count": 36,
   "metadata": {},
   "outputs": [],
   "source": [
    "model.compile(loss='binary_crossentropy',\n",
    "              optimizer=\"adam\",\n",
    "              metrics=['accuracy'])"
   ]
  },
  {
   "cell_type": "code",
   "execution_count": 37,
   "metadata": {},
   "outputs": [],
   "source": [
    "callbacks = [ ReduceLROnPlateau(monitor='val_loss', patience=5, cooldown=0),\n",
    "              EarlyStopping(monitor='val_acc', min_delta=1e-4, patience=5)]"
   ]
  },
  {
   "cell_type": "code",
   "execution_count": 38,
   "metadata": {},
   "outputs": [
    {
     "name": "stdout",
     "output_type": "stream",
     "text": [
      "Epoch 1/8\n",
      "1125/1125 [==============================] - ETA: 0s - loss: 0.5029 - accuracy: 0.7512WARNING:tensorflow:Early stopping conditioned on metric `val_acc` which is not available. Available metrics are: loss,accuracy,val_loss,val_accuracy,lr\n"
     ]
    },
    {
     "name": "stderr",
     "output_type": "stream",
     "text": [
      "2020-12-04 18:06:24,462 : WARNING : Early stopping conditioned on metric `val_acc` which is not available. Available metrics are: loss,accuracy,val_loss,val_accuracy,lr\n"
     ]
    },
    {
     "name": "stdout",
     "output_type": "stream",
     "text": [
      "1125/1125 [==============================] - 10355s 9s/step - loss: 0.5029 - accuracy: 0.7512 - val_loss: 0.4661 - val_accuracy: 0.7790\n",
      "Epoch 2/8\n",
      "1125/1125 [==============================] - ETA: 0s - loss: 0.4779 - accuracy: 0.7684WARNING:tensorflow:Early stopping conditioned on metric `val_acc` which is not available. Available metrics are: loss,accuracy,val_loss,val_accuracy,lr\n"
     ]
    },
    {
     "name": "stderr",
     "output_type": "stream",
     "text": [
      "2020-12-04 20:50:28,603 : WARNING : Early stopping conditioned on metric `val_acc` which is not available. Available metrics are: loss,accuracy,val_loss,val_accuracy,lr\n"
     ]
    },
    {
     "name": "stdout",
     "output_type": "stream",
     "text": [
      "1125/1125 [==============================] - 9831s 9s/step - loss: 0.4779 - accuracy: 0.7684 - val_loss: 0.4578 - val_accuracy: 0.7844\n",
      "Epoch 3/8\n",
      "1125/1125 [==============================] - ETA: 0s - loss: 0.4714 - accuracy: 0.7724WARNING:tensorflow:Early stopping conditioned on metric `val_acc` which is not available. Available metrics are: loss,accuracy,val_loss,val_accuracy,lr\n"
     ]
    },
    {
     "name": "stderr",
     "output_type": "stream",
     "text": [
      "2020-12-04 23:33:09,674 : WARNING : Early stopping conditioned on metric `val_acc` which is not available. Available metrics are: loss,accuracy,val_loss,val_accuracy,lr\n"
     ]
    },
    {
     "name": "stdout",
     "output_type": "stream",
     "text": [
      "1125/1125 [==============================] - 9751s 9s/step - loss: 0.4714 - accuracy: 0.7724 - val_loss: 0.4523 - val_accuracy: 0.7865\n",
      "Epoch 4/8\n",
      "1125/1125 [==============================] - ETA: 0s - loss: 0.4676 - accuracy: 0.7745WARNING:tensorflow:Early stopping conditioned on metric `val_acc` which is not available. Available metrics are: loss,accuracy,val_loss,val_accuracy,lr\n"
     ]
    },
    {
     "name": "stderr",
     "output_type": "stream",
     "text": [
      "2020-12-05 02:28:51,299 : WARNING : Early stopping conditioned on metric `val_acc` which is not available. Available metrics are: loss,accuracy,val_loss,val_accuracy,lr\n"
     ]
    },
    {
     "name": "stdout",
     "output_type": "stream",
     "text": [
      "1125/1125 [==============================] - 10530s 9s/step - loss: 0.4676 - accuracy: 0.7745 - val_loss: 0.4525 - val_accuracy: 0.7874\n",
      "Epoch 5/8\n",
      "1125/1125 [==============================] - ETA: 0s - loss: 0.4654 - accuracy: 0.7762WARNING:tensorflow:Early stopping conditioned on metric `val_acc` which is not available. Available metrics are: loss,accuracy,val_loss,val_accuracy,lr\n"
     ]
    },
    {
     "name": "stderr",
     "output_type": "stream",
     "text": [
      "2020-12-05 04:47:40,198 : WARNING : Early stopping conditioned on metric `val_acc` which is not available. Available metrics are: loss,accuracy,val_loss,val_accuracy,lr\n"
     ]
    },
    {
     "name": "stdout",
     "output_type": "stream",
     "text": [
      "1125/1125 [==============================] - 8320s 7s/step - loss: 0.4654 - accuracy: 0.7762 - val_loss: 0.4506 - val_accuracy: 0.7889\n",
      "Epoch 6/8\n",
      "1125/1125 [==============================] - ETA: 0s - loss: 0.4634 - accuracy: 0.7774WARNING:tensorflow:Early stopping conditioned on metric `val_acc` which is not available. Available metrics are: loss,accuracy,val_loss,val_accuracy,lr\n"
     ]
    },
    {
     "name": "stderr",
     "output_type": "stream",
     "text": [
      "2020-12-05 07:08:03,346 : WARNING : Early stopping conditioned on metric `val_acc` which is not available. Available metrics are: loss,accuracy,val_loss,val_accuracy,lr\n"
     ]
    },
    {
     "name": "stdout",
     "output_type": "stream",
     "text": [
      "1125/1125 [==============================] - 8415s 7s/step - loss: 0.4634 - accuracy: 0.7774 - val_loss: 0.4478 - val_accuracy: 0.7895\n",
      "Epoch 7/8\n",
      "1125/1125 [==============================] - ETA: 0s - loss: 0.4622 - accuracy: 0.7779WARNING:tensorflow:Early stopping conditioned on metric `val_acc` which is not available. Available metrics are: loss,accuracy,val_loss,val_accuracy,lr\n"
     ]
    },
    {
     "name": "stderr",
     "output_type": "stream",
     "text": [
      "2020-12-05 09:27:07,874 : WARNING : Early stopping conditioned on metric `val_acc` which is not available. Available metrics are: loss,accuracy,val_loss,val_accuracy,lr\n"
     ]
    },
    {
     "name": "stdout",
     "output_type": "stream",
     "text": [
      "1125/1125 [==============================] - 8336s 7s/step - loss: 0.4622 - accuracy: 0.7779 - val_loss: 0.4468 - val_accuracy: 0.7901\n",
      "Epoch 8/8\n",
      "1125/1125 [==============================] - ETA: 0s - loss: 0.4609 - accuracy: 0.7787WARNING:tensorflow:Early stopping conditioned on metric `val_acc` which is not available. Available metrics are: loss,accuracy,val_loss,val_accuracy,lr\n"
     ]
    },
    {
     "name": "stderr",
     "output_type": "stream",
     "text": [
      "2020-12-05 11:51:28,396 : WARNING : Early stopping conditioned on metric `val_acc` which is not available. Available metrics are: loss,accuracy,val_loss,val_accuracy,lr\n"
     ]
    },
    {
     "name": "stdout",
     "output_type": "stream",
     "text": [
      "1125/1125 [==============================] - 8652s 8s/step - loss: 0.4609 - accuracy: 0.7787 - val_loss: 0.4452 - val_accuracy: 0.7905\n",
      "CPU times: user 1d 18h 20s, sys: 18h 8min 45s, total: 2d 12h 9min 5s\n",
      "Wall time: 20h 37min 52s\n"
     ]
    }
   ],
   "source": [
    "%%time\n",
    "history = model.fit(x_train, y_train,\n",
    "                    batch_size=BATCH_SIZE,\n",
    "                    epochs=EPOCHS,\n",
    "                    validation_split=0.1,\n",
    "                    verbose=1,\n",
    "                    callbacks=callbacks)"
   ]
  },
  {
   "cell_type": "code",
   "execution_count": 39,
   "metadata": {},
   "outputs": [
    {
     "name": "stdout",
     "output_type": "stream",
     "text": [
      "313/313 [==============================] - 558s 2s/step - loss: 0.4441 - accuracy: 0.7913\n",
      "\n",
      "ACCURACY: 0.791265606880188\n",
      "LOSS: 0.4441477954387665\n",
      "CPU times: user 19min 26s, sys: 5min 14s, total: 24min 41s\n",
      "Wall time: 9min 20s\n"
     ]
    }
   ],
   "source": [
    "%%time\n",
    "score = model.evaluate(x_test, y_test, batch_size=BATCH_SIZE)\n",
    "print()\n",
    "print(\"ACCURACY:\",score[1])\n",
    "print(\"LOSS:\",score[0])"
   ]
  },
  {
   "cell_type": "code",
   "execution_count": 42,
   "metadata": {},
   "outputs": [
    {
     "data": {
      "image/png": "[encoded data removed]",
      "text/plain": [
       "<Figure size 432x288 with 1 Axes>"
      ]
     },
     "metadata": {
      "needs_background": "light"
     },
     "output_type": "display_data"
    },
    {
     "data": {
      "image/png": "[encoded data removed]",
      "text/plain": [
       "<Figure size 432x288 with 1 Axes>"
      ]
     },
     "metadata": {
      "needs_background": "light"
     },
     "output_type": "display_data"
    }
   ],
   "source": [
    "acc = history.history['accuracy']\n",
    "val_acc = history.history['val_accuracy']\n",
    "loss = history.history['loss']\n",
    "val_loss = history.history['val_loss']\n",
    " \n",
    "epochs = range(len(acc))\n",
    " \n",
    "plt.plot(epochs, acc, 'b', label='Training acc')\n",
    "plt.plot(epochs, val_acc, 'r', label='Validation acc')\n",
    "plt.title('Training and validation accuracy')\n",
    "plt.legend()\n",
    " \n",
    "plt.figure()\n",
    " \n",
    "plt.plot(epochs, loss, 'b', label='Training loss')\n",
    "plt.plot(epochs, val_loss, 'r', label='Validation loss')\n",
    "plt.title('Training and validation loss')\n",
    "plt.legend()\n",
    " \n",
    "plt.show()"
   ]
  },
  {
   "cell_type": "code",
   "execution_count": 43,
   "metadata": {},
   "outputs": [],
   "source": [
    "def decode_sentiment(score, include_neutral=True):\n",
    "    if include_neutral:        \n",
    "        label = NEUTRAL\n",
    "        if score <= SENTIMENT_THRESHOLDS[0]:\n",
    "            label = NEGATIVE\n",
    "        elif score >= SENTIMENT_THRESHOLDS[1]:\n",
    "            label = POSITIVE\n",
    "\n",
    "        return label\n",
    "    else:\n",
    "        return NEGATIVE if score < 0.5 else POSITIVE"
   ]
  },
  {
   "cell_type": "code",
   "execution_count": 44,
   "metadata": {},
   "outputs": [],
   "source": [
    "def predict(text, include_neutral=True):\n",
    "    start_at = time.time()\n",
    "    # Tokenize text\n",
    "    x_test = pad_sequences(tokenizer.texts_to_sequences([text]), maxlen=SEQUENCE_LENGTH)\n",
    "    # Predict\n",
    "    score = model.predict([x_test])[0]\n",
    "    # Decode sentiment\n",
    "    label = decode_sentiment(score, include_neutral=include_neutral)\n",
    "\n",
    "    return {\"label\": label, \"score\": float(score),\n",
    "       \"elapsed_time\": time.time()-start_at}  "
   ]
  },
  {
   "cell_type": "code",
   "execution_count": 45,
   "metadata": {},
   "outputs": [
    {
     "data": {
      "text/plain": [
       "{'label': 'POSITIVE',\n",
       " 'score': 0.9617032408714294,\n",
       " 'elapsed_time': 0.42303895950317383}"
      ]
     },
     "execution_count": 45,
     "metadata": {},
     "output_type": "execute_result"
    }
   ],
   "source": [
    "predict(\"I love the music\")"
   ]
  },
  {
   "cell_type": "code",
   "execution_count": 46,
   "metadata": {},
   "outputs": [
    {
     "data": {
      "text/plain": [
       "{'label': 'NEGATIVE',\n",
       " 'score': 0.010683596134185791,\n",
       " 'elapsed_time': 0.1080169677734375}"
      ]
     },
     "execution_count": 46,
     "metadata": {},
     "output_type": "execute_result"
    }
   ],
   "source": [
    "predict(\"I hate the rain\")"
   ]
  },
  {
   "cell_type": "code",
   "execution_count": 47,
   "metadata": {},
   "outputs": [
    {
     "data": {
      "text/plain": [
       "{'label': 'NEGATIVE',\n",
       " 'score': 0.3052173852920532,\n",
       " 'elapsed_time': 0.08829617500305176}"
      ]
     },
     "execution_count": 47,
     "metadata": {},
     "output_type": "execute_result"
    }
   ],
   "source": [
    "predict(\"i don't know what i'm doing\")"
   ]
  },
  {
   "cell_type": "code",
   "execution_count": null,
   "metadata": {},
   "outputs": [],
   "source": []
  },
  {
   "cell_type": "code",
   "execution_count": 48,
   "metadata": {},
   "outputs": [
    {
     "name": "stdout",
     "output_type": "stream",
     "text": [
      "40/40 [==============================] - 470s 12s/step\n",
      "CPU times: user 18min 7s, sys: 6min 25s, total: 24min 32s\n",
      "Wall time: 8min 12s\n"
     ]
    }
   ],
   "source": [
    "%%time\n",
    "y_pred_1d = []\n",
    "y_test_1d = list(df_test.target)\n",
    "scores = model.predict(x_test, verbose=1, batch_size=8000)\n",
    "y_pred_1d = [decode_sentiment(score, include_neutral=False) for score in scores]"
   ]
  },
  {
   "cell_type": "code",
   "execution_count": 49,
   "metadata": {},
   "outputs": [],
   "source": [
    "def plot_confusion_matrix(cm, classes,\n",
    "                          title='Confusion matrix',\n",
    "                          cmap=plt.cm.Blues):\n",
    "    \"\"\"\n",
    "    This function prints and plots the confusion matrix.\n",
    "    Normalization can be applied by setting `normalize=True`.\n",
    "    \"\"\"\n",
    "\n",
    "    cm = cm.astype('float') / cm.sum(axis=1)[:, np.newaxis]\n",
    "\n",
    "    plt.imshow(cm, interpolation='nearest', cmap=cmap)\n",
    "    plt.title(title, fontsize=30)\n",
    "    plt.colorbar()\n",
    "    tick_marks = np.arange(len(classes))\n",
    "    plt.xticks(tick_marks, classes, rotation=90, fontsize=22)\n",
    "    plt.yticks(tick_marks, classes, fontsize=22)\n",
    "\n",
    "    fmt = '.2f'\n",
    "    thresh = cm.max() / 2.\n",
    "    for i, j in itertools.product(range(cm.shape[0]), range(cm.shape[1])):\n",
    "        plt.text(j, i, format(cm[i, j], fmt),\n",
    "                 horizontalalignment=\"center\",\n",
    "                 color=\"white\" if cm[i, j] > thresh else \"black\")\n",
    "\n",
    "    plt.ylabel('True label', fontsize=25)\n",
    "    plt.xlabel('Predicted label', fontsize=25)"
   ]
  },
  {
   "cell_type": "code",
   "execution_count": 50,
   "metadata": {},
   "outputs": [
    {
     "data": {
      "image/png": "[encoded data removed]",
      "text/plain": [
       "<Figure size 864x864 with 2 Axes>"
      ]
     },
     "metadata": {
      "needs_background": "light"
     },
     "output_type": "display_data"
    },
    {
     "name": "stdout",
     "output_type": "stream",
     "text": [
      "CPU times: user 1.27 s, sys: 154 ms, total: 1.42 s\n",
      "Wall time: 1.82 s\n"
     ]
    }
   ],
   "source": [
    "%%time\n",
    "\n",
    "cnf_matrix = confusion_matrix(y_test_1d, y_pred_1d)\n",
    "plt.figure(figsize=(12,12))\n",
    "plot_confusion_matrix(cnf_matrix, classes=df_train.target.unique(), title=\"Confusion matrix\")\n",
    "plt.show()"
   ]
  },
  {
   "cell_type": "code",
   "execution_count": 51,
   "metadata": {},
   "outputs": [
    {
     "name": "stdout",
     "output_type": "stream",
     "text": [
      "              precision    recall  f1-score   support\n",
      "\n",
      "    NEGATIVE       0.80      0.78      0.79    159494\n",
      "    POSITIVE       0.79      0.80      0.79    160506\n",
      "\n",
      "    accuracy                           0.79    320000\n",
      "   macro avg       0.79      0.79      0.79    320000\n",
      "weighted avg       0.79      0.79      0.79    320000\n",
      "\n"
     ]
    }
   ],
   "source": [
    "print(classification_report(y_test_1d, y_pred_1d))"
   ]
  },
  {
   "cell_type": "code",
   "execution_count": 52,
   "metadata": {},
   "outputs": [
    {
     "data": {
      "text/plain": [
       "0.791265625"
      ]
     },
     "execution_count": 52,
     "metadata": {},
     "output_type": "execute_result"
    }
   ],
   "source": [
    "accuracy_score(y_test_1d, y_pred_1d)"
   ]
  },
  {
   "cell_type": "code",
   "execution_count": 53,
   "metadata": {},
   "outputs": [
    {
     "name": "stderr",
     "output_type": "stream",
     "text": [
      "2020-12-05 12:18:03,789 : INFO : saving Word2Vec object under model.w2v, separately None\n",
      "2020-12-05 12:18:03,805 : INFO : not storing attribute vectors_norm\n",
      "2020-12-05 12:18:03,807 : INFO : not storing attribute cum_table\n",
      "2020-12-05 12:18:05,696 : INFO : saved model.w2v\n"
     ]
    }
   ],
   "source": [
    "model.save(KERAS_MODEL)\n",
    "w2v_model.save(WORD2VEC_MODEL)\n",
    "pickle.dump(tokenizer, open(TOKENIZER_MODEL, \"wb\"), protocol=0)\n",
    "pickle.dump(encoder, open(ENCODER_MODEL, \"wb\"), protocol=0)"
   ]
  },
  {
   "cell_type": "code",
   "execution_count": 54,
   "metadata": {},
   "outputs": [
    {
     "data": {
      "text/plain": [
       "{'label': 'POSITIVE',\n",
       " 'score': 0.9477497339248657,\n",
       " 'elapsed_time': 0.17639493942260742}"
      ]
     },
     "execution_count": 54,
     "metadata": {},
     "output_type": "execute_result"
    }
   ],
   "source": [
    "predict('Who\\'s here in December and literally cannot wait for Christmas 🎄🤣')"
   ]
  },
  {
   "cell_type": "code",
   "execution_count": 55,
   "metadata": {},
   "outputs": [
    {
     "data": {
      "text/plain": [
       "{'label': 'NEUTRAL',\n",
       " 'score': 0.6976704597473145,\n",
       " 'elapsed_time': 0.1211550235748291}"
      ]
     },
     "execution_count": 55,
     "metadata": {},
     "output_type": "execute_result"
    }
   ],
   "source": [
    "predict('I\\'m telling my kids Mariah is Santa Clause')"
   ]
  },
  {
   "cell_type": "code",
   "execution_count": 56,
   "metadata": {},
   "outputs": [
    {
     "data": {
      "text/plain": [
       "{'label': 'NEGATIVE',\n",
       " 'score': 0.28031542897224426,\n",
       " 'elapsed_time': 0.1130361557006836}"
      ]
     },
     "execution_count": 56,
     "metadata": {},
     "output_type": "execute_result"
    }
   ],
   "source": [
    "predict('When Mariah Carey dies she will leave a void in the world. I hope there is a long way to go for that :´´ )')"
   ]
  },
  {
   "cell_type": "code",
   "execution_count": 57,
   "metadata": {},
   "outputs": [
    {
     "data": {
      "text/plain": [
       "{'label': 'POSITIVE',\n",
       " 'score': 0.9284753799438477,\n",
       " 'elapsed_time': 0.10547518730163574}"
      ]
     },
     "execution_count": 57,
     "metadata": {},
     "output_type": "execute_result"
    }
   ],
   "source": [
    "predict('Listening to this makes me forget that there\\'s a pandemic.')"
   ]
  },
  {
   "cell_type": "code",
   "execution_count": 59,
   "metadata": {},
   "outputs": [
    {
     "data": {
      "text/plain": [
       "{'label': 'POSITIVE',\n",
       " 'score': 0.931087851524353,\n",
       " 'elapsed_time': 0.10805892944335938}"
      ]
     },
     "execution_count": 59,
     "metadata": {},
     "output_type": "execute_result"
    }
   ],
   "source": [
    "predict('\"Who\\'s here in October and literally cannot wait for Christmas 🎄🤣👇\"')"
   ]
  },
  {
   "cell_type": "code",
   "execution_count": 60,
   "metadata": {},
   "outputs": [
    {
     "data": {
      "text/plain": [
       "{'label': 'POSITIVE',\n",
       " 'score': 0.9425585865974426,\n",
       " 'elapsed_time': 0.09743213653564453}"
      ]
     },
     "execution_count": 60,
     "metadata": {},
     "output_type": "execute_result"
    }
   ],
   "source": [
    "predict('This year has been crazy, and I can\\'t believe it\\'s December already. Merry Christmas everyone, remember that you are strong and amazing!!!')"
   ]
  },
  {
   "cell_type": "code",
   "execution_count": 61,
   "metadata": {},
   "outputs": [
    {
     "data": {
      "text/plain": [
       "{'label': 'POSITIVE',\n",
       " 'score': 0.7442891597747803,\n",
       " 'elapsed_time': 0.08665227890014648}"
      ]
     },
     "execution_count": 61,
     "metadata": {},
     "output_type": "execute_result"
    }
   ],
   "source": [
    "predict('Let\\'s be honest, we all searched for the song.')"
   ]
  },
  {
   "cell_type": "code",
   "execution_count": 62,
   "metadata": {},
   "outputs": [
    {
     "data": {
      "text/plain": [
       "{'label': 'NEGATIVE',\n",
       " 'score': 0.0262967050075531,\n",
       " 'elapsed_time': 0.10167694091796875}"
      ]
     },
     "execution_count": 62,
     "metadata": {},
     "output_type": "execute_result"
    }
   ],
   "source": [
    "predict('Bro I’m just depressed that it’s not Christmas right now')"
   ]
  },
  {
   "cell_type": "code",
   "execution_count": 63,
   "metadata": {},
   "outputs": [
    {
     "data": {
      "text/plain": [
       "{'label': 'POSITIVE',\n",
       " 'score': 0.8805539608001709,\n",
       " 'elapsed_time': 0.08898305892944336}"
      ]
     },
     "execution_count": 63,
     "metadata": {},
     "output_type": "execute_result"
    }
   ],
   "source": [
    "predict('I\\'ve been listening to this song every Christmas season.')"
   ]
  },
  {
   "cell_type": "code",
   "execution_count": 64,
   "metadata": {},
   "outputs": [
    {
     "data": {
      "text/plain": [
       "{'label': 'POSITIVE',\n",
       " 'score': 0.8425670862197876,\n",
       " 'elapsed_time': 0.09133005142211914}"
      ]
     },
     "execution_count": 64,
     "metadata": {},
     "output_type": "execute_result"
    }
   ],
   "source": [
    "predict('why is nobody talking about how cute is this little girl')"
   ]
  },
  {
   "cell_type": "code",
   "execution_count": null,
   "metadata": {},
   "outputs": [],
   "source": []
  }
 ],
 "metadata": {
  "kernelspec": {
   "display_name": "Python 3",
   "language": "python",
   "name": "python3"
  },
  "language_info": {
   "codemirror_mode": {
    "name": "ipython",
    "version": 3
   },
   "file_extension": ".py",
   "mimetype": "text/x-python",
   "name": "python",
   "nbconvert_exporter": "python",
   "pygments_lexer": "ipython3",
   "version": "3.7.7"
  }
 },
 "nbformat": 4,
 "nbformat_minor": 4
}
